{
 "cells": [
  {
   "cell_type": "code",
   "execution_count": 64,
   "id": "a2d61bec",
   "metadata": {},
   "outputs": [],
   "source": [
    "from selenium import webdriver\n",
    "import time\n",
    "from bs4 import BeautifulSoup \n",
    "from urllib.request import urlopen\n",
    "import numpy as np\n",
    "import pandas as pd"
   ]
  },
  {
   "cell_type": "code",
   "execution_count": 65,
   "id": "16e5a08f",
   "metadata": {},
   "outputs": [],
   "source": [
    "global manfac\n",
    "global country\n",
    "manfac = { '현대' : 16, '기아' : 12, '제네시스' : 61321, '쌍용' : 13, '르노삼성' : 15, '한국지엠' : 14,\n",
    "          '폭스바겐' : 20, '벤츠' : 21, 'BMW' : 23, '아우디' : 18, '렉서스' : 22, '도요타' : 41, '혼다' : 31, '볼보' : 24, '미니' : 6435, \n",
    "          '재규어' : 25, '랜드로버' : 39, '포드' : 30, '링컨' : 35, '쉐보레' : 48, '캐딜락' : 19, '테슬라' : 29832, '지프' : 40, \n",
    "          '르노' : 3847, '푸조' : 28, '시트로엥' : 3848, 'DS' : 128687, '마세라티' : 3976, '포르쉐' : 3905,\n",
    "          '람보르기니' : 3814, '페라리' : 27, '맥라렌' : 29978, '부가티' : 58745, '애스턴마틴' : 3827, '마이바흐' : 6434,\n",
    "          '롤스로이스' : 3824, '벤틀리' : 4129, '닛산' : 33, '로터스' : 4040, '마쯔다' : 42, '미쓰비스' : 37, '복스홀' : 29989, \n",
    "          '뷰익' : 43, '사이언' : 4216, '세아트' : 29984, '스마트' : 6436, '인피니티' : 34, '코닉세그' : 3840, '알파로메오' : 3999,\n",
    "          '크라이슬러' : 26, 'GMC' : 29611, '닷지' : 4188}\n",
    "country = {'국산' : 'N',\n",
    "          '수입' : 'Y'}"
   ]
  },
  {
   "cell_type": "code",
   "execution_count": 66,
   "id": "6522e91b",
   "metadata": {},
   "outputs": [],
   "source": [
    "global imp\n",
    "global manf\n",
    "\n",
    "# 국산인지 수입인지 입력\n",
    "con = '수입'\n",
    "# 제조사 입력\n",
    "mf = '포르쉐'"
   ]
  },
  {
   "cell_type": "code",
   "execution_count": 67,
   "id": "7506b775",
   "metadata": {},
   "outputs": [],
   "source": [
    "def getUrl(ctry,manf_name,page):\n",
    "    url_base = 'https://auto.naver.com/'\n",
    "    manf_no = manfac[manf_name]\n",
    "    con = country[ctry]\n",
    "    url_sub = 'company/main.nhn?mnfcoNo='+str(manf_no)+'&modelType=DC&order=3&importYn='+con+'&lnchYY=-1&saleType=-1&page='+str(page)\n",
    "    url = url_base + url_sub\n",
    "\n",
    "    html = urlopen(url)\n",
    "    bs = BeautifulSoup(html, \"html.parser\")\n",
    "    return bs"
   ]
  },
  {
   "cell_type": "code",
   "execution_count": 68,
   "id": "a749e95f",
   "metadata": {},
   "outputs": [],
   "source": [
    "test_bs = getUrl(con,mf,1)"
   ]
  },
  {
   "cell_type": "code",
   "execution_count": 69,
   "id": "331d37b6",
   "metadata": {},
   "outputs": [],
   "source": [
    "def getName(bs,length):\n",
    "    new_name = bs.select('div.sum > a.model_name > span.box > strong')\n",
    "    new_name_year = np.array([],dtype=np.int8)\n",
    "    new_name_model = np.array([])\n",
    "\n",
    "    if country[con] == 'N':\n",
    "        for i in np.arange(0,length):\n",
    "            new_name_year = np.append(new_name_year,new_name[i].text.split(' ',1)[0])\n",
    "            new_name_model = np.append(new_name_model,new_name[i].text.split(' ',1)[1])\n",
    "    \n",
    "    elif country[con] == 'Y':\n",
    "        for i in np.arange(0,length):\n",
    "            new_name_year = np.append(new_name_year,new_name[i].text.split(' ',2)[0])\n",
    "            new_name_model = np.append(new_name_model,new_name[i].text.split(' ',2)[2])\n",
    "    return new_name_year,new_name_model"
   ]
  },
  {
   "cell_type": "code",
   "execution_count": 70,
   "id": "9b67b088",
   "metadata": {},
   "outputs": [
    {
     "data": {
      "text/plain": [
       "(array(['2007', '2016', '2006', '2018', '2015', '2013', '2012', '2009',\n",
       "        '2017', '2015', '2015', '2014', '2011', '2017', '2020'],\n",
       "       dtype='<U4'),\n",
       " array(['박스터', '마칸 GTS', '카이맨', '마칸', '마칸', '박스터', '박스터', '박스터', '카이맨',\n",
       "        '카이맨', '박스터', '카이맨 ', '박스터', '마칸', '타이칸'], dtype='<U32'))"
      ]
     },
     "execution_count": 70,
     "metadata": {},
     "output_type": "execute_result"
    }
   ],
   "source": [
    "getName(test_bs,15)"
   ]
  },
  {
   "cell_type": "code",
   "execution_count": 71,
   "id": "c2e8cec4",
   "metadata": {},
   "outputs": [],
   "source": [
    "def getPrice(bs):\n",
    "    new_price = bs.select('ul.lst > li.price.new > span.cont')\n",
    "    length = len(new_price)\n",
    "    new_price_min = np.array([],dtype=np.int8)\n",
    "    new_price_max = np.array([],dtype=np.int8)\n",
    "    for i in np.arange(0,len(new_price)):\n",
    "        min_p = int(new_price[i].text.split('~')[0].replace('억','').replace(',',''))\n",
    "        \n",
    "        if len(new_price[i].text.split('~')) == 1:\n",
    "            max_p = int(new_price[i].text.split('~')[0].replace('억','').replace(',',''))\n",
    "        else:\n",
    "            max_p = int(new_price[i].text.split('~')[1].replace('억','').replace(',',''))\n",
    "        \n",
    "        if min_p > max_p:\n",
    "            max_p = max_p + 9000\n",
    "        \n",
    "        new_price_min = np.append(new_price_min,min_p)\n",
    "        if len(new_price[i].text.split('~')) == 1:\n",
    "            new_price_max = np.append(new_price_max,min_p)\n",
    "        else:\n",
    "            new_price_max = np.append(new_price_max,max_p)\n",
    "        \n",
    "        \n",
    "            \n",
    "    return new_price_min,new_price_max,length"
   ]
  },
  {
   "cell_type": "code",
   "execution_count": 72,
   "id": "032c2ee0",
   "metadata": {},
   "outputs": [
    {
     "data": {
      "text/plain": [
       "(array([ 6419, 67200,  6972,  7560,  7560,  7750,  7750,  7791,  7800,\n",
       "         7840,  7840,  7930,  8150,  8240, 79900]),\n",
       " array([  7594,  67200,  11100,   7560,  10800,  11120,   9890,   9686,\n",
       "          9400,   9400,   9400,  11480,  11450,  10800, 195870]),\n",
       " 15)"
      ]
     },
     "execution_count": 72,
     "metadata": {},
     "output_type": "execute_result"
    }
   ],
   "source": [
    "getPrice(test_bs)"
   ]
  },
  {
   "cell_type": "code",
   "execution_count": 73,
   "id": "964c65e0",
   "metadata": {},
   "outputs": [],
   "source": [
    "def getMileage(bs,length):\n",
    "    new_mileage = bs.select('ul.lst > li.mileage > span.dt > span.ell > span.en')\n",
    "    new_mileage_min = np.array([])\n",
    "    new_mileage_max = np.array([])\n",
    "    for i in np.arange(0,length):\n",
    "        new_mileage_min = np.append(new_mileage_min,new_mileage[i].text.split('~')[0].replace('km/ℓ','').replace('km/kg',''))\n",
    "        if len(new_mileage[i].text.split('~')) == 1:\n",
    "            new_mileage_max = np.append(new_mileage_max,new_mileage[i].text.split('~')[0].replace('km/ℓ','').replace('km/kg',''))\n",
    "        else:\n",
    "            new_mileage_max = np.append(new_mileage_max,new_mileage[i].text.split('~')[1].replace('km/ℓ','').replace('km/kg',''))\n",
    "    return new_mileage_min,new_mileage_max"
   ]
  },
  {
   "cell_type": "code",
   "execution_count": 74,
   "id": "c9d3bd02",
   "metadata": {},
   "outputs": [
    {
     "data": {
      "text/plain": [
       "(array(['7.8', '9.2ℓ/100km', '9.3', '9.0', '8.1', '9.4', '9.5', '10.2',\n",
       "        '9.0', '10.1'], dtype='<U32'),\n",
       " array(['9.1', '9.2ℓ/100km', '9.8', '9.0', '16.4', '10.1', '10.7', '11.0',\n",
       "        '9.4', '10.7'], dtype='<U32'))"
      ]
     },
     "execution_count": 74,
     "metadata": {},
     "output_type": "execute_result"
    }
   ],
   "source": [
    "getMileage(test_bs,10)"
   ]
  },
  {
   "cell_type": "code",
   "execution_count": 75,
   "id": "7718bea0",
   "metadata": {},
   "outputs": [],
   "source": [
    "def getFuel(bs,length):\n",
    "    new_fuel = bs.select('ul.lst > li.mileage > span.dt > span.ell')\n",
    "    new_fuel_arr = np.array([])\n",
    "    for i in np.arange(1,length*2,2):\n",
    "        new_fuel_arr = np.append(new_fuel_arr,new_fuel[i].text.replace('\\r','').replace('\\n','').replace('\\t',''))\n",
    "    return new_fuel_arr"
   ]
  },
  {
   "cell_type": "code",
   "execution_count": 76,
   "id": "78b63346",
   "metadata": {},
   "outputs": [
    {
     "data": {
      "text/plain": [
       "array(['가솔린', '가솔린', '가솔린', '가솔린', '디젤, 가솔린', '가솔린', '가솔린', '가솔린', '가솔린',\n",
       "       '가솔린'], dtype='<U32')"
      ]
     },
     "execution_count": 76,
     "metadata": {},
     "output_type": "execute_result"
    }
   ],
   "source": [
    "getFuel(test_bs,10)"
   ]
  },
  {
   "cell_type": "code",
   "execution_count": 77,
   "id": "6687ded6",
   "metadata": {},
   "outputs": [],
   "source": [
    "def getSize(bs,length):\n",
    "    new_size = bs.select('ul.lst > li.info > a.type > span.cont')\n",
    "    new_size_arr = np.array([])\n",
    "    for i in np.arange(0,length):\n",
    "        new_size_arr = np.append(new_size_arr,new_size[i].text)\n",
    "    return new_size_arr"
   ]
  },
  {
   "cell_type": "code",
   "execution_count": 78,
   "id": "f6bcf277",
   "metadata": {},
   "outputs": [
    {
     "data": {
      "text/plain": [
       "array(['스포츠카', '중형', '스포츠카', '중형', '중형', '스포츠카', '스포츠카', '스포츠카', '스포츠카',\n",
       "       '스포츠카'], dtype='<U32')"
      ]
     },
     "execution_count": 78,
     "metadata": {},
     "output_type": "execute_result"
    }
   ],
   "source": [
    "getSize(test_bs,10)"
   ]
  },
  {
   "cell_type": "code",
   "execution_count": 79,
   "id": "5e70793b",
   "metadata": {},
   "outputs": [],
   "source": [
    "def getNewInfo(con,mf):\n",
    "    re_name_year = np.array([])\n",
    "    re_name_model = np.array([])\n",
    "    re_price_min = np.array([])\n",
    "    re_price_max = np.array([])\n",
    "    re_mileage_min = np.array([])\n",
    "    re_mileage_max = np.array([])\n",
    "    re_fuel = np.array([])\n",
    "    re_size = np.array([])\n",
    "    \n",
    "    for i in np.arange(1,23):\n",
    "        bs = getUrl(con,mf,i)\n",
    "        length = getPrice(bs)[2]\n",
    "        re_name_year = np.append(re_name_year,getName(bs,length)[0])\n",
    "        re_name_model = np.append(re_name_model,getName(bs,length)[1])\n",
    "        re_price_min = np.append(re_price_min,getPrice(bs)[0])\n",
    "        re_price_max = np.append(re_price_max,getPrice(bs)[1])\n",
    "        re_mileage_min = np.append(re_mileage_min,getMileage(bs,length)[0])\n",
    "        re_mileage_max = np.append(re_mileage_max,getMileage(bs,length)[1])\n",
    "        re_fuel = np.append(re_fuel,getFuel(bs,length))\n",
    "        re_size = np.append(re_size,getSize(bs,length))\n",
    "        if length < 15:\n",
    "            break;\n",
    "    new_data = pd.DataFrame({'Release Year' : re_name_year,\n",
    "                        'Model Name' : re_name_model,\n",
    "                        'Min Price(won)' : re_price_min,\n",
    "                        'Max Price(won)' : re_price_max,\n",
    "                        'Min Mileage' : re_mileage_min,\n",
    "                        'Max Mileage' : re_mileage_max,\n",
    "                         'Fuel' : re_fuel,\n",
    "                        'Size' : re_size})\n",
    "    return new_data"
   ]
  },
  {
   "cell_type": "code",
   "execution_count": 80,
   "id": "de87f7a8",
   "metadata": {},
   "outputs": [],
   "source": [
    "#제조사별 번호를 대입한다.\n",
    "test = getNewInfo(con,mf)"
   ]
  },
  {
   "cell_type": "code",
   "execution_count": 81,
   "id": "12a58dd0",
   "metadata": {},
   "outputs": [],
   "source": [
    "test = test.sort_values(by='Release Year',ascending=False)"
   ]
  },
  {
   "cell_type": "code",
   "execution_count": 82,
   "id": "f6f09729",
   "metadata": {},
   "outputs": [],
   "source": [
    "test = test.set_index('Release Year')"
   ]
  },
  {
   "cell_type": "code",
   "execution_count": 83,
   "id": "94dd1740",
   "metadata": {},
   "outputs": [],
   "source": [
    "#연식별 차종 가격 비교"
   ]
  },
  {
   "cell_type": "code",
   "execution_count": 84,
   "id": "358b0689",
   "metadata": {},
   "outputs": [
    {
     "data": {
      "text/html": [
       "<div>\n",
       "<style scoped>\n",
       "    .dataframe tbody tr th:only-of-type {\n",
       "        vertical-align: middle;\n",
       "    }\n",
       "\n",
       "    .dataframe tbody tr th {\n",
       "        vertical-align: top;\n",
       "    }\n",
       "\n",
       "    .dataframe thead th {\n",
       "        text-align: right;\n",
       "    }\n",
       "</style>\n",
       "<table border=\"1\" class=\"dataframe\">\n",
       "  <thead>\n",
       "    <tr style=\"text-align: right;\">\n",
       "      <th></th>\n",
       "      <th>Model Name</th>\n",
       "      <th>Min Price(won)</th>\n",
       "      <th>Max Price(won)</th>\n",
       "      <th>Min Mileage</th>\n",
       "      <th>Max Mileage</th>\n",
       "      <th>Fuel</th>\n",
       "      <th>Size</th>\n",
       "    </tr>\n",
       "    <tr>\n",
       "      <th>Release Year</th>\n",
       "      <th></th>\n",
       "      <th></th>\n",
       "      <th></th>\n",
       "      <th></th>\n",
       "      <th></th>\n",
       "      <th></th>\n",
       "      <th></th>\n",
       "    </tr>\n",
       "  </thead>\n",
       "  <tbody>\n",
       "    <tr>\n",
       "      <th>2021</th>\n",
       "      <td>타이칸 크로스 투리스모</td>\n",
       "      <td>90900.0</td>\n",
       "      <td>187600.0</td>\n",
       "      <td>3.8</td>\n",
       "      <td>3.9km/kWh</td>\n",
       "      <td>전기</td>\n",
       "      <td>준대형</td>\n",
       "    </tr>\n",
       "    <tr>\n",
       "      <th>2021</th>\n",
       "      <td>911 GT3</td>\n",
       "      <td>152416.0</td>\n",
       "      <td>152416.0</td>\n",
       "      <td>12.4</td>\n",
       "      <td>13.3ℓ/100km</td>\n",
       "      <td>가솔린</td>\n",
       "      <td>스포츠카</td>\n",
       "    </tr>\n",
       "    <tr>\n",
       "      <th>2020</th>\n",
       "      <td>타이칸</td>\n",
       "      <td>79900.0</td>\n",
       "      <td>195870.0</td>\n",
       "      <td>2.7km/kWh</td>\n",
       "      <td>2.7km/kWh</td>\n",
       "      <td>전기</td>\n",
       "      <td>준대형</td>\n",
       "    </tr>\n",
       "    <tr>\n",
       "      <th>2020</th>\n",
       "      <td>마칸</td>\n",
       "      <td>91922.0</td>\n",
       "      <td>91922.0</td>\n",
       "      <td>9.8ℓ/100km</td>\n",
       "      <td>9.8ℓ/100km</td>\n",
       "      <td>가솔린</td>\n",
       "      <td>중형</td>\n",
       "    </tr>\n",
       "    <tr>\n",
       "      <th>2020</th>\n",
       "      <td>박스터 GTS</td>\n",
       "      <td>83949.0</td>\n",
       "      <td>83949.0</td>\n",
       "      <td>정보없음</td>\n",
       "      <td>정보없음</td>\n",
       "      <td>가솔린</td>\n",
       "      <td>스포츠카</td>\n",
       "    </tr>\n",
       "    <tr>\n",
       "      <th>...</th>\n",
       "      <td>...</td>\n",
       "      <td>...</td>\n",
       "      <td>...</td>\n",
       "      <td>...</td>\n",
       "      <td>...</td>\n",
       "      <td>...</td>\n",
       "      <td>...</td>\n",
       "    </tr>\n",
       "    <tr>\n",
       "      <th>2007</th>\n",
       "      <td>박스터</td>\n",
       "      <td>6419.0</td>\n",
       "      <td>7594.0</td>\n",
       "      <td>7.8</td>\n",
       "      <td>9.1</td>\n",
       "      <td>가솔린</td>\n",
       "      <td>스포츠카</td>\n",
       "    </tr>\n",
       "    <tr>\n",
       "      <th>2006</th>\n",
       "      <td>카이엔</td>\n",
       "      <td>9990.0</td>\n",
       "      <td>17400.0</td>\n",
       "      <td>5.3</td>\n",
       "      <td>6.2</td>\n",
       "      <td>가솔린</td>\n",
       "      <td>준대형</td>\n",
       "    </tr>\n",
       "    <tr>\n",
       "      <th>2006</th>\n",
       "      <td>카이맨</td>\n",
       "      <td>6972.0</td>\n",
       "      <td>11100.0</td>\n",
       "      <td>9.3</td>\n",
       "      <td>9.8</td>\n",
       "      <td>가솔린</td>\n",
       "      <td>스포츠카</td>\n",
       "    </tr>\n",
       "    <tr>\n",
       "      <th>2006</th>\n",
       "      <td>카레라 GT</td>\n",
       "      <td>88000.0</td>\n",
       "      <td>88000.0</td>\n",
       "      <td>5.6</td>\n",
       "      <td>5.6</td>\n",
       "      <td>가솔린</td>\n",
       "      <td>스포츠카</td>\n",
       "    </tr>\n",
       "    <tr>\n",
       "      <th>2004</th>\n",
       "      <td>박스터</td>\n",
       "      <td>9570.0</td>\n",
       "      <td>10230.0</td>\n",
       "      <td>정보없음</td>\n",
       "      <td>정보없음</td>\n",
       "      <td>가솔린</td>\n",
       "      <td>스포츠카</td>\n",
       "    </tr>\n",
       "  </tbody>\n",
       "</table>\n",
       "<p>142 rows × 7 columns</p>\n",
       "</div>"
      ],
      "text/plain": [
       "                Model Name  Min Price(won)  Max Price(won) Min Mileage  \\\n",
       "Release Year                                                             \n",
       "2021          타이칸 크로스 투리스모         90900.0        187600.0         3.8   \n",
       "2021               911 GT3        152416.0        152416.0        12.4   \n",
       "2020                   타이칸         79900.0        195870.0   2.7km/kWh   \n",
       "2020                    마칸         91922.0         91922.0  9.8ℓ/100km   \n",
       "2020               박스터 GTS         83949.0         83949.0        정보없음   \n",
       "...                    ...             ...             ...         ...   \n",
       "2007                   박스터          6419.0          7594.0         7.8   \n",
       "2006                   카이엔          9990.0         17400.0         5.3   \n",
       "2006                   카이맨          6972.0         11100.0         9.3   \n",
       "2006                카레라 GT         88000.0         88000.0         5.6   \n",
       "2004                   박스터          9570.0         10230.0        정보없음   \n",
       "\n",
       "              Max Mileage Fuel  Size  \n",
       "Release Year                          \n",
       "2021            3.9km/kWh   전기   준대형  \n",
       "2021          13.3ℓ/100km  가솔린  스포츠카  \n",
       "2020            2.7km/kWh   전기   준대형  \n",
       "2020           9.8ℓ/100km  가솔린    중형  \n",
       "2020                 정보없음  가솔린  스포츠카  \n",
       "...                   ...  ...   ...  \n",
       "2007                  9.1  가솔린  스포츠카  \n",
       "2006                  6.2  가솔린   준대형  \n",
       "2006                  9.8  가솔린  스포츠카  \n",
       "2006                  5.6  가솔린  스포츠카  \n",
       "2004                 정보없음  가솔린  스포츠카  \n",
       "\n",
       "[142 rows x 7 columns]"
      ]
     },
     "execution_count": 84,
     "metadata": {},
     "output_type": "execute_result"
    }
   ],
   "source": [
    "test"
   ]
  },
  {
   "cell_type": "code",
   "execution_count": 85,
   "id": "40f1fedd",
   "metadata": {},
   "outputs": [],
   "source": [
    "#test.to_csv('%s_new_car_list.csv'%(manf))"
   ]
  },
  {
   "cell_type": "code",
   "execution_count": null,
   "id": "78bc8b66",
   "metadata": {},
   "outputs": [],
   "source": []
  },
  {
   "cell_type": "code",
   "execution_count": null,
   "id": "4dacc182",
   "metadata": {},
   "outputs": [],
   "source": []
  }
 ],
 "metadata": {
  "kernelspec": {
   "display_name": "Python 3",
   "language": "python",
   "name": "python3"
  },
  "language_info": {
   "codemirror_mode": {
    "name": "ipython",
    "version": 3
   },
   "file_extension": ".py",
   "mimetype": "text/x-python",
   "name": "python",
   "nbconvert_exporter": "python",
   "pygments_lexer": "ipython3",
   "version": "3.8.8"
  }
 },
 "nbformat": 4,
 "nbformat_minor": 5
}
