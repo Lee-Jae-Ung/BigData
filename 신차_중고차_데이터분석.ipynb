{
 "cells": [
  {
   "cell_type": "code",
   "execution_count": 459,
   "id": "ae426aee",
   "metadata": {},
   "outputs": [],
   "source": [
    "import numpy as np\n",
    "import pandas as pd\n",
    "import matplotlib.pyplot as plt\n",
    "from matplotlib import rc\n",
    "%matplotlib inline"
   ]
  },
  {
   "cell_type": "code",
   "execution_count": 462,
   "id": "4ecbff4c",
   "metadata": {},
   "outputs": [],
   "source": [
    "rc('font', family='AppleGothic')\n",
    "plt.rcParams['axes.unicode_minus'] = False"
   ]
  },
  {
   "cell_type": "markdown",
   "id": "2a04fa77",
   "metadata": {},
   "source": [
    "# 크롤링한 데이터 읽어오기"
   ]
  },
  {
   "cell_type": "code",
   "execution_count": 463,
   "id": "583107f7",
   "metadata": {},
   "outputs": [],
   "source": [
    "global new_hd\n",
    "global used_hd\n",
    "global new_kia\n",
    "global used_kia\n",
    "global new_gnss\n",
    "global used_gnss\n",
    "global new_sy\n",
    "global used_sy\n",
    "global new_benz\n",
    "global used_benz\n",
    "global new_bmw\n",
    "global used_bmw\n",
    "global new_audi\n",
    "global used_audi\n",
    "\n",
    "\n",
    "\n",
    "\n",
    "new_hd = pd.read_csv('현대_new_car_list.csv')\n",
    "used_hd = pd.read_csv('현대_used_car_list.csv')\n",
    "new_kia = pd.read_csv('기아_new_car_list.csv')\n",
    "used_kia = pd.read_csv('기아_used_car_list.csv')\n",
    "new_gnss = pd.read_csv('제네시스_new_car_list.csv')\n",
    "used_gnss = pd.read_csv('제네시스_used_car_list.csv')\n",
    "new_sy = pd.read_csv('쌍용_new_car_list.csv')\n",
    "used_sy = pd.read_csv('쌍용_used_car_list.csv')\n",
    "new_benz = pd.read_csv('벤츠_new_car_list.csv')\n",
    "used_benz = pd.read_csv('벤츠_used_car_list.csv')\n",
    "new_bmw = pd.read_csv('BMW_new_car_list.csv')\n",
    "used_bmw = pd.read_csv('BMW_used_car_list.csv')\n",
    "new_audi = pd.read_csv('아우디_new_car_list.csv')\n",
    "used_audi = pd.read_csv('아우디_used_car_list.csv')"
   ]
  },
  {
   "cell_type": "markdown",
   "id": "a92ccd79",
   "metadata": {},
   "source": [
    "# 예산 범위 내에서 차량 추천"
   ]
  },
  {
   "cell_type": "code",
   "execution_count": 464,
   "id": "0ec30f59",
   "metadata": {},
   "outputs": [],
   "source": [
    "def recoCar(budget_start,budget_end):\n",
    "    used_hd1 = used_hd.drop(index=used_hd[used_hd['Price'] == '홈서비스'].index.values.astype(int),axis=0)\n",
    "    used_hd1.fillna(0)\n",
    "    used_hd1['Price'] = used_hd1['Price'].astype(int)\n",
    "    result1 = used_hd1[used_hd1['Price'].between(budget_start,budget_end)].sort_values(by='Price')\n",
    "    \n",
    "    used_kia1 = used_kia.drop(index=used_kia[used_kia['Price'] == '홈서비스'].index.values.astype(int),axis=0)\n",
    "    used_kia1.fillna(0)\n",
    "    used_kia1['Price'] = used_kia1['Price'].astype(int)\n",
    "    result2 = used_kia1[used_kia1['Price'].between(budget_start,budget_end)].sort_values(by='Price')\n",
    "    \n",
    "    used_gnss1 = used_gnss.drop(index=used_gnss[used_gnss['Price'] == '홈서비스'].index.values.astype(int),axis=0)\n",
    "    used_gnss1.fillna(0)\n",
    "    used_gnss1['Price'] = used_gnss1['Price'].astype(int)\n",
    "    result3 = used_gnss1[used_gnss1['Price'].between(budget_start,budget_end)].sort_values(by='Price')\n",
    "    \n",
    "    used_sy1 = used_sy.drop(index=used_sy[used_sy['Price'] == '홈서비스'].index.values.astype(int),axis=0)\n",
    "    used_sy1.fillna(0)\n",
    "    used_sy1['Price'] = used_sy1['Price'].astype(int)\n",
    "    result4 = used_sy1[used_sy1['Price'].between(budget_start,budget_end)].sort_values(by='Price')\n",
    "    \n",
    "    used_benz1 = used_benz.drop(index=used_benz[used_benz['Price'] == '홈서비스'].index.values.astype(int),axis=0)\n",
    "    result5 = used_benz1[used_benz1['Price'].between(budget_start,budget_end)].sort_values(by='Price')\n",
    "    \n",
    "    used_bmw1 = used_bmw.drop(index=used_bmw[used_bmw['Price'] == '홈서비스'].index.values.astype(int),axis=0)\n",
    "    result6 = used_bmw1[used_bmw1['Price'].between(budget_start,budget_end)].sort_values(by='Price')\n",
    "    \n",
    "    used_audi1 = used_audi.drop(index=used_audi[used_audi['Price'] == '홈서비스'].index.values.astype(int),axis=0)\n",
    "    used_audi1.fillna(0)\n",
    "    used_audi1['Price'] = used_audi1['Price'].astype(int)\n",
    "    result7 = used_audi1[used_audi1['Price'].between(budget_start,budget_end)].sort_values(by='Price')\n",
    "    return result1,result2,result3,result4,result5,result6,result7"
   ]
  },
  {
   "cell_type": "code",
   "execution_count": 466,
   "id": "ab95eff7",
   "metadata": {},
   "outputs": [
    {
     "data": {
      "text/html": [
       "<div>\n",
       "<style scoped>\n",
       "    .dataframe tbody tr th:only-of-type {\n",
       "        vertical-align: middle;\n",
       "    }\n",
       "\n",
       "    .dataframe tbody tr th {\n",
       "        vertical-align: top;\n",
       "    }\n",
       "\n",
       "    .dataframe thead th {\n",
       "        text-align: right;\n",
       "    }\n",
       "</style>\n",
       "<table border=\"1\" class=\"dataframe\">\n",
       "  <thead>\n",
       "    <tr style=\"text-align: right;\">\n",
       "      <th></th>\n",
       "      <th>Release Year</th>\n",
       "      <th>Model Name</th>\n",
       "      <th>Price</th>\n",
       "      <th>Km</th>\n",
       "      <th>Fuel</th>\n",
       "      <th>Manf</th>\n",
       "    </tr>\n",
       "  </thead>\n",
       "  <tbody>\n",
       "    <tr>\n",
       "      <th>3174</th>\n",
       "      <td>2008</td>\n",
       "      <td>S클래스</td>\n",
       "      <td>2000.0</td>\n",
       "      <td>230000.0</td>\n",
       "      <td>가솔린</td>\n",
       "      <td>벤츠</td>\n",
       "    </tr>\n",
       "    <tr>\n",
       "      <th>3123</th>\n",
       "      <td>2008</td>\n",
       "      <td>S클래스</td>\n",
       "      <td>2000.0</td>\n",
       "      <td>230000.0</td>\n",
       "      <td>가솔린</td>\n",
       "      <td>벤츠</td>\n",
       "    </tr>\n",
       "    <tr>\n",
       "      <th>4137</th>\n",
       "      <td>2015</td>\n",
       "      <td>GLK클래스</td>\n",
       "      <td>2000.0</td>\n",
       "      <td>139670.0</td>\n",
       "      <td>디젤</td>\n",
       "      <td>벤츠</td>\n",
       "    </tr>\n",
       "    <tr>\n",
       "      <th>3177</th>\n",
       "      <td>2008</td>\n",
       "      <td>S클래스</td>\n",
       "      <td>2000.0</td>\n",
       "      <td>230000.0</td>\n",
       "      <td>가솔린</td>\n",
       "      <td>벤츠</td>\n",
       "    </tr>\n",
       "    <tr>\n",
       "      <th>619</th>\n",
       "      <td>2008</td>\n",
       "      <td>E클래스</td>\n",
       "      <td>2000.0</td>\n",
       "      <td>156901.0</td>\n",
       "      <td>가솔린</td>\n",
       "      <td>벤츠</td>\n",
       "    </tr>\n",
       "    <tr>\n",
       "      <th>...</th>\n",
       "      <td>...</td>\n",
       "      <td>...</td>\n",
       "      <td>...</td>\n",
       "      <td>...</td>\n",
       "      <td>...</td>\n",
       "      <td>...</td>\n",
       "    </tr>\n",
       "    <tr>\n",
       "      <th>3056</th>\n",
       "      <td>2006</td>\n",
       "      <td>SL클래스</td>\n",
       "      <td>3000.0</td>\n",
       "      <td>102415.0</td>\n",
       "      <td>가솔린</td>\n",
       "      <td>벤츠</td>\n",
       "    </tr>\n",
       "    <tr>\n",
       "      <th>3043</th>\n",
       "      <td>2006</td>\n",
       "      <td>SL클래스</td>\n",
       "      <td>3000.0</td>\n",
       "      <td>102415.0</td>\n",
       "      <td>가솔린</td>\n",
       "      <td>벤츠</td>\n",
       "    </tr>\n",
       "    <tr>\n",
       "      <th>3037</th>\n",
       "      <td>2006</td>\n",
       "      <td>SL클래스</td>\n",
       "      <td>3000.0</td>\n",
       "      <td>102415.0</td>\n",
       "      <td>가솔린</td>\n",
       "      <td>벤츠</td>\n",
       "    </tr>\n",
       "    <tr>\n",
       "      <th>4043</th>\n",
       "      <td>2018</td>\n",
       "      <td>CLA클래스</td>\n",
       "      <td>3000.0</td>\n",
       "      <td>45776.0</td>\n",
       "      <td>가솔린</td>\n",
       "      <td>벤츠</td>\n",
       "    </tr>\n",
       "    <tr>\n",
       "      <th>4040</th>\n",
       "      <td>2018</td>\n",
       "      <td>CLA클래스</td>\n",
       "      <td>3000.0</td>\n",
       "      <td>45776.0</td>\n",
       "      <td>가솔린</td>\n",
       "      <td>벤츠</td>\n",
       "    </tr>\n",
       "  </tbody>\n",
       "</table>\n",
       "<p>697 rows × 6 columns</p>\n",
       "</div>"
      ],
      "text/plain": [
       "      Release Year Model Name   Price        Km Fuel Manf\n",
       "3174          2008       S클래스  2000.0  230000.0  가솔린   벤츠\n",
       "3123          2008       S클래스  2000.0  230000.0  가솔린   벤츠\n",
       "4137          2015     GLK클래스  2000.0  139670.0   디젤   벤츠\n",
       "3177          2008       S클래스  2000.0  230000.0  가솔린   벤츠\n",
       "619           2008       E클래스  2000.0  156901.0  가솔린   벤츠\n",
       "...            ...        ...     ...       ...  ...  ...\n",
       "3056          2006      SL클래스  3000.0  102415.0  가솔린   벤츠\n",
       "3043          2006      SL클래스  3000.0  102415.0  가솔린   벤츠\n",
       "3037          2006      SL클래스  3000.0  102415.0  가솔린   벤츠\n",
       "4043          2018     CLA클래스  3000.0   45776.0  가솔린   벤츠\n",
       "4040          2018     CLA클래스  3000.0   45776.0  가솔린   벤츠\n",
       "\n",
       "[697 rows x 6 columns]"
      ]
     },
     "execution_count": 466,
     "metadata": {},
     "output_type": "execute_result"
    }
   ],
   "source": [
    "mf = {'현대' : 0,'기아' : 1,'제네시스' : 2,'쌍용' : 3,'벤츠' : 4,'BMW' : 5,'아우디' : 6}\n",
    "recoCar(2000,3000)[mf['벤츠']]"
   ]
  },
  {
   "cell_type": "markdown",
   "id": "9560e87a",
   "metadata": {},
   "source": [
    "# 신차대비 감가율 계산"
   ]
  },
  {
   "cell_type": "code",
   "execution_count": 211,
   "id": "be871ed5",
   "metadata": {},
   "outputs": [],
   "source": [
    "def comparePrice(new_csv,used_csv,model):\n",
    "    new = new_csv\n",
    "    used = used_csv\n",
    "\n",
    "    used = used.drop(index=used[used['Price'] == '홈서비스'].index.values.astype(int),axis=0)\n",
    "    #used = used.drop(index=used[used['Price'].str.contains('렌트승계').values == True].index.values,axis=0)\n",
    "    #used = used.drop(index=used[used['Price'].str.contains('리스승계').values == True].index.values,axis=0)\n",
    "    used = used.fillna(0)\n",
    "    used['Price'] = used['Price'].astype(int)\n",
    "    \n",
    "    \n",
    "    new['Price avg'] = (new['Min Price(won)'] + new['Max Price(won)']) / 2\n",
    "    \n",
    "    new_pivot = pd.pivot_table(new,\n",
    "                                index = 'Model Name',\n",
    "                                columns = 'Release Year',\n",
    "                                values = 'Price avg',\n",
    "                                aggfunc = 'median')\n",
    "    \n",
    "    used_pivot = pd.pivot_table(used,\n",
    "                                index = 'Model Name',\n",
    "                                columns = 'Release Year',\n",
    "                                values = 'Price',\n",
    "                                aggfunc = 'median')\n",
    "\n",
    "    used_model_name = used_pivot.filter(regex=model,axis=0)\n",
    "    #used_model_name = used_model_name.drop([2093],axis=1)\n",
    "    used_model_name = used_model_name.fillna(0)\n",
    "    \n",
    "    new_gran = new_pivot.loc[model,:]\n",
    "    used_gran = used_model_name.max()\n",
    "    \n",
    "    used_gran = used_gran\n",
    "    \n",
    "    depr_rate = pd.concat([new_gran,used_gran],axis=1)\n",
    "    depr_rate = depr_rate.rename(columns = {model : '신차',0 : '중고차'})\n",
    "    \n",
    "    depr_rate = depr_rate.dropna(axis=0)\n",
    "    depr_rate['감가율(%)'] = 100-((depr_rate['중고차'] / depr_rate['신차']) * 100)\n",
    "    \n",
    "    depr_rate = depr_rate.drop(index=depr_rate[depr_rate['중고차']==0].index.values,axis=0)\n",
    "    depr_rate['중고차'] = depr_rate['중고차'].round(1)\n",
    "    depr_rate['감가율(%)'] = depr_rate['감가율(%)'].round(1)\n",
    "    return depr_rate"
   ]
  },
  {
   "cell_type": "code",
   "execution_count": 471,
   "id": "783b4a51",
   "metadata": {},
   "outputs": [],
   "source": [
    "model_name = 'E클래스'"
   ]
  },
  {
   "cell_type": "code",
   "execution_count": 477,
   "id": "006d40c5",
   "metadata": {},
   "outputs": [
    {
     "data": {
      "text/html": [
       "<div>\n",
       "<style scoped>\n",
       "    .dataframe tbody tr th:only-of-type {\n",
       "        vertical-align: middle;\n",
       "    }\n",
       "\n",
       "    .dataframe tbody tr th {\n",
       "        vertical-align: top;\n",
       "    }\n",
       "\n",
       "    .dataframe thead th {\n",
       "        text-align: right;\n",
       "    }\n",
       "</style>\n",
       "<table border=\"1\" class=\"dataframe\">\n",
       "  <thead>\n",
       "    <tr style=\"text-align: right;\">\n",
       "      <th></th>\n",
       "      <th>신차</th>\n",
       "      <th>중고차</th>\n",
       "      <th>감가율(%)</th>\n",
       "    </tr>\n",
       "    <tr>\n",
       "      <th>Release Year</th>\n",
       "      <th></th>\n",
       "      <th></th>\n",
       "      <th></th>\n",
       "    </tr>\n",
       "  </thead>\n",
       "  <tbody>\n",
       "    <tr>\n",
       "      <th>2006</th>\n",
       "      <td>8090.0</td>\n",
       "      <td>450.0</td>\n",
       "      <td>94.4</td>\n",
       "    </tr>\n",
       "    <tr>\n",
       "      <th>2007</th>\n",
       "      <td>8290.0</td>\n",
       "      <td>530.0</td>\n",
       "      <td>93.6</td>\n",
       "    </tr>\n",
       "    <tr>\n",
       "      <th>2008</th>\n",
       "      <td>7970.0</td>\n",
       "      <td>680.0</td>\n",
       "      <td>91.5</td>\n",
       "    </tr>\n",
       "    <tr>\n",
       "      <th>2010</th>\n",
       "      <td>11185.0</td>\n",
       "      <td>950.0</td>\n",
       "      <td>91.5</td>\n",
       "    </tr>\n",
       "    <tr>\n",
       "      <th>2011</th>\n",
       "      <td>11032.5</td>\n",
       "      <td>1090.0</td>\n",
       "      <td>90.1</td>\n",
       "    </tr>\n",
       "    <tr>\n",
       "      <th>2012</th>\n",
       "      <td>13840.0</td>\n",
       "      <td>1080.0</td>\n",
       "      <td>92.2</td>\n",
       "    </tr>\n",
       "    <tr>\n",
       "      <th>2013</th>\n",
       "      <td>13850.0</td>\n",
       "      <td>1370.0</td>\n",
       "      <td>90.1</td>\n",
       "    </tr>\n",
       "    <tr>\n",
       "      <th>2014</th>\n",
       "      <td>10692.5</td>\n",
       "      <td>1920.0</td>\n",
       "      <td>82.0</td>\n",
       "    </tr>\n",
       "    <tr>\n",
       "      <th>2015</th>\n",
       "      <td>10617.5</td>\n",
       "      <td>2250.0</td>\n",
       "      <td>78.8</td>\n",
       "    </tr>\n",
       "    <tr>\n",
       "      <th>2016</th>\n",
       "      <td>7780.0</td>\n",
       "      <td>2380.0</td>\n",
       "      <td>69.4</td>\n",
       "    </tr>\n",
       "    <tr>\n",
       "      <th>2017</th>\n",
       "      <td>9715.0</td>\n",
       "      <td>5280.0</td>\n",
       "      <td>45.7</td>\n",
       "    </tr>\n",
       "    <tr>\n",
       "      <th>2018</th>\n",
       "      <td>10635.0</td>\n",
       "      <td>5990.0</td>\n",
       "      <td>43.7</td>\n",
       "    </tr>\n",
       "    <tr>\n",
       "      <th>2019</th>\n",
       "      <td>8255.0</td>\n",
       "      <td>6150.0</td>\n",
       "      <td>25.5</td>\n",
       "    </tr>\n",
       "    <tr>\n",
       "      <th>2020</th>\n",
       "      <td>10970.0</td>\n",
       "      <td>8690.0</td>\n",
       "      <td>20.8</td>\n",
       "    </tr>\n",
       "    <tr>\n",
       "      <th>2021</th>\n",
       "      <td>10197.5</td>\n",
       "      <td>9040.0</td>\n",
       "      <td>11.4</td>\n",
       "    </tr>\n",
       "  </tbody>\n",
       "</table>\n",
       "</div>"
      ],
      "text/plain": [
       "                   신차     중고차  감가율(%)\n",
       "Release Year                         \n",
       "2006           8090.0   450.0    94.4\n",
       "2007           8290.0   530.0    93.6\n",
       "2008           7970.0   680.0    91.5\n",
       "2010          11185.0   950.0    91.5\n",
       "2011          11032.5  1090.0    90.1\n",
       "2012          13840.0  1080.0    92.2\n",
       "2013          13850.0  1370.0    90.1\n",
       "2014          10692.5  1920.0    82.0\n",
       "2015          10617.5  2250.0    78.8\n",
       "2016           7780.0  2380.0    69.4\n",
       "2017           9715.0  5280.0    45.7\n",
       "2018          10635.0  5990.0    43.7\n",
       "2019           8255.0  6150.0    25.5\n",
       "2020          10970.0  8690.0    20.8\n",
       "2021          10197.5  9040.0    11.4"
      ]
     },
     "execution_count": 477,
     "metadata": {},
     "output_type": "execute_result"
    }
   ],
   "source": [
    "test = comparePrice(new_benz,used_benz,model_name)\n",
    "test"
   ]
  },
  {
   "cell_type": "markdown",
   "id": "1e4ce883",
   "metadata": {},
   "source": [
    "# 해당 모델의 중고차 매물 수"
   ]
  },
  {
   "cell_type": "code",
   "execution_count": 473,
   "id": "0a77438e",
   "metadata": {},
   "outputs": [],
   "source": [
    "def countModel(used_csv,model_name):\n",
    "    used = used_csv\n",
    "    return len(used[used['Model Name'].str.contains(model_name)])"
   ]
  },
  {
   "cell_type": "code",
   "execution_count": 478,
   "id": "e0beafc5",
   "metadata": {},
   "outputs": [
    {
     "data": {
      "text/plain": [
       "1459"
      ]
     },
     "execution_count": 478,
     "metadata": {},
     "output_type": "execute_result"
    }
   ],
   "source": [
    "countModel(used_benz,model_name)"
   ]
  },
  {
   "cell_type": "markdown",
   "id": "21653218",
   "metadata": {},
   "source": [
    "# 해당 모델의 연식별 신차 가격, 중고차 가격, 감가율 그래프 그리기"
   ]
  },
  {
   "cell_type": "code",
   "execution_count": 479,
   "id": "e162f47b",
   "metadata": {},
   "outputs": [],
   "source": [
    "def drawNewUsed(result,model_name):\n",
    "    fig, ax1 = plt.subplots(figsize=(10,8))\n",
    "\n",
    "    ax1.scatter(result.index,result['신차'])\n",
    "    ax1.scatter(result.index,result['중고차'])\n",
    "    ax1.plot(result.index,result['신차'],label='신차')\n",
    "    ax1.plot(result.index,result['중고차'],label='중고차')\n",
    "    \n",
    "    ax1.legend(loc='upper left')\n",
    "    ax1.set_xlabel('연식')\n",
    "    ax1.set_ylabel('가격(단위 : 만 원)')\n",
    "    plt.title(\"%s\" % (model_name))\n",
    "    \n",
    "    ax2 = ax1.twinx()\n",
    "    ax2.plot(result.index,result['감가율(%)'],label='감가율',c='r')\n",
    "    ax2.legend(loc='upper right')\n",
    "    ax2.set_ylabel('단위 : %')"
   ]
  },
  {
   "cell_type": "code",
   "execution_count": 480,
   "id": "26663887",
   "metadata": {},
   "outputs": [
    {
     "data": {
      "image/png": "[encoded data removed]",
      "text/plain": [
       "<Figure size 720x576 with 2 Axes>"
      ]
     },
     "metadata": {
      "needs_background": "light"
     },
     "output_type": "display_data"
    }
   ],
   "source": [
    "drawNewUsed(test,model_name)"
   ]
  },
  {
   "cell_type": "markdown",
   "id": "04bcc8dc",
   "metadata": {},
   "source": [
    "# 주요 모델 별 감가율 비교"
   ]
  },
  {
   "cell_type": "code",
   "execution_count": 484,
   "id": "25f0fe0d",
   "metadata": {},
   "outputs": [],
   "source": [
    "model1 = '에쿠스'\n",
    "model2 = '아반떼'"
   ]
  },
  {
   "cell_type": "code",
   "execution_count": 485,
   "id": "f7bd0bee",
   "metadata": {},
   "outputs": [],
   "source": [
    "ab1 = comparePrice(new_hd,used_hd,model1)\n",
    "ab2 = comparePrice(new_hd,used_hd,model2)"
   ]
  },
  {
   "cell_type": "code",
   "execution_count": 486,
   "id": "0b881dd2",
   "metadata": {},
   "outputs": [
    {
     "data": {
      "text/plain": [
       "Text(0.5, 1.0, '모델별 감가율')"
      ]
     },
     "execution_count": 486,
     "metadata": {},
     "output_type": "execute_result"
    },
    {
     "data": {
      "image/png": "[encoded data removed]",
      "text/plain": [
       "<Figure size 432x288 with 1 Axes>"
      ]
     },
     "metadata": {
      "needs_background": "light"
     },
     "output_type": "display_data"
    }
   ],
   "source": [
    "plt.plot(ab1.index,ab1['감가율(%)'],label=model1,c='r')\n",
    "plt.plot(ab2.index,ab2['감가율(%)'],label=model2)\n",
    "plt.legend()\n",
    "plt.title('모델별 감가율')"
   ]
  },
  {
   "cell_type": "code",
   "execution_count": null,
   "id": "5f9e1295",
   "metadata": {},
   "outputs": [],
   "source": []
  }
 ],
 "metadata": {
  "kernelspec": {
   "display_name": "Python 3",
   "language": "python",
   "name": "python3"
  },
  "language_info": {
   "codemirror_mode": {
    "name": "ipython",
    "version": 3
   },
   "file_extension": ".py",
   "mimetype": "text/x-python",
   "name": "python",
   "nbconvert_exporter": "python",
   "pygments_lexer": "ipython3",
   "version": "3.8.8"
  }
 },
 "nbformat": 4,
 "nbformat_minor": 5
}
