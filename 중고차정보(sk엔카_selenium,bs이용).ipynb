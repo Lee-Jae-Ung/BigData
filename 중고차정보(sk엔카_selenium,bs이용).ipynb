{
 "cells": [
  {
   "cell_type": "code",
   "execution_count": 77,
   "id": "ba7e1b1c",
   "metadata": {},
   "outputs": [],
   "source": [
    "from selenium import webdriver\n",
    "from selenium.webdriver.common.by import By\n",
    "import time\n",
    "from bs4 import BeautifulSoup\n",
    "from urllib.request import urlopen\n",
    "import numpy as np\n",
    "import pandas as pd\n",
    "from selenium.webdriver.common.keys import Keys\n",
    "import folium\n",
    "from config_NaverAPI_me import *"
   ]
  },
  {
   "cell_type": "code",
   "execution_count": 42,
   "id": "c17c982f",
   "metadata": {},
   "outputs": [
    {
     "name": "stderr",
     "output_type": "stream",
     "text": [
      "<ipython-input-42-c035349edb00>:1: DeprecationWarning: executable_path has been deprecated, please pass in a Service object\n",
      "  driver = webdriver.Chrome('/opt/anaconda3/bin/chromedriver')\n"
     ]
    }
   ],
   "source": [
    "driver = webdriver.Chrome('/opt/anaconda3/bin/chromedriver')"
   ]
  },
  {
   "cell_type": "code",
   "execution_count": 43,
   "id": "6632a6a9",
   "metadata": {},
   "outputs": [],
   "source": [
    "driver.get('http://www.encar.com/index.do')"
   ]
  },
  {
   "cell_type": "code",
   "execution_count": 44,
   "id": "1ac02cb5",
   "metadata": {},
   "outputs": [],
   "source": [
    "loca=driver.find_element(By.XPATH,'//*[@id=\"manufact\"]/a/span[1]')\n",
    "driver.execute_script(\"arguments[0].click();\", loca)\n",
    "time.sleep(5)"
   ]
  },
  {
   "cell_type": "code",
   "execution_count": 45,
   "id": "1acbb904",
   "metadata": {},
   "outputs": [],
   "source": [
    "country = {'국산' : 1, '수입' : 2}\n",
    "manfac = {'현대' : 1, '제네시스' : 2, '기아' : 3, '쉐보레' : 4, '르노' : 5, '쌍용' : 6, \n",
    "            'BMW' : 1, 'GMC' : 2, '닛산' : 3, '다이하쯔' : 4, '닷지' : 5, '도요타' : 6, '동풍소콘' : 7,\n",
    "            '람보르기니' : 8, '랜드로버' : 9, '렉서스' : 10, 'MG로버' : 11, '로터스' : 12, '롤스로이스' : 13,\n",
    "            '르노' : 14, '링컨' : 15, '마세라티' : 16, '마이바흐' : 17, '마쯔다' : 18, '맥라렌' : 19,\n",
    "            '머큐리' : 20, '미니' : 21, '미쯔비시' : 22, '미쯔오까' : 23, '벤츠' : 24, '벤틀리' : 25,\n",
    "            '볼보' : 26, '부가티' : 27, '북기은상' : 28, '뷰익' : 29, '사브' : 30, '사이언' : 31,\n",
    "            '새턴' : 32, '쉐보레' : 33, '스마트' : 34, '스바루' : 35, '스즈키' : 36, '시트로엥' : 37,\n",
    "            '아우디' : 38, '알파' : 39, '로메오' : 40, '애스턴마틴' : 41, '어큐라' : 42, '오펠' : 43,\n",
    "            '올즈모빌' : 44, '이스즈' : 45, '인피니티' : 46, '재규어' : 47, '지프' : 48, '캐딜락' : 49,\n",
    "            '코닉세그' : 50, '크라이슬러' : 51, '테슬라' : 52, '파가니' : 53, '페라리' : 54, '포드' : 55,\n",
    "            '포르쉐' : 56, '포톤' : 57, '폭스바겐' : 58, '폰티악' : 59, '푸조' : 60, '피아트' : 61, '험머' : 62, '혼다' : 63}"
   ]
  },
  {
   "cell_type": "code",
   "execution_count": 46,
   "id": "4c720ced",
   "metadata": {},
   "outputs": [],
   "source": [
    "global con\n",
    "global mf\n",
    "\n",
    "# 국산인지 수입인지 입력 ex) '국산'  ,  '수입'\n",
    "con = '국산'\n",
    "# 제조사 입력         ex) '현대'  ,  '벤츠'\n",
    "mf = '현대'"
   ]
  },
  {
   "cell_type": "code",
   "execution_count": 47,
   "id": "cc36781e",
   "metadata": {},
   "outputs": [],
   "source": [
    "loca2=driver.find_element(By.XPATH,'//*[@id=\"manufactListText\"]/ul['+ str(country[con]) +']/li['+ str(manfac[mf]) +']/a')\n",
    "driver.execute_script(\"arguments[0].click();\", loca2)\n",
    "time.sleep(5)"
   ]
  },
  {
   "cell_type": "code",
   "execution_count": 48,
   "id": "8de1a453",
   "metadata": {},
   "outputs": [],
   "source": [
    "loca3=driver.find_element(By.XPATH,'//*[@id=\"seriesItemList\"]/li[1]/a')\n",
    "driver.execute_script(\"arguments[0].click();\", loca3)\n",
    "time.sleep(5)"
   ]
  },
  {
   "cell_type": "code",
   "execution_count": 49,
   "id": "6677f941",
   "metadata": {},
   "outputs": [],
   "source": [
    "loca4=driver.find_element(By.XPATH,'//*[@id=\"indexSch1\"]/div[1]/a')\n",
    "driver.execute_script(\"arguments[0].click();\", loca4)\n",
    "time.sleep(5)"
   ]
  },
  {
   "cell_type": "code",
   "execution_count": 50,
   "id": "7713dfcc",
   "metadata": {},
   "outputs": [],
   "source": [
    "def getUrl():\n",
    "    source = driver.page_source\n",
    "    bs = BeautifulSoup(source, 'html.parser')\n",
    "    return bs"
   ]
  },
  {
   "cell_type": "code",
   "execution_count": 51,
   "id": "c3411ccf",
   "metadata": {},
   "outputs": [],
   "source": [
    "bs = getUrl()"
   ]
  },
  {
   "cell_type": "code",
   "execution_count": 52,
   "id": "129a844d",
   "metadata": {},
   "outputs": [],
   "source": [
    "def getInfo(bs):\n",
    "    manf = np.array([])\n",
    "    model = np.array([])\n",
    "    Info = bs.select('div.part.list > table.car_list > tbody#sr_normal > tr > td.inf > a.newLink._link > span.cls')\n",
    "    for i in range(0,len(Info)):\n",
    "        temp = Info[i].text.split(' ',1)\n",
    "        ls = [v for v in temp if v]\n",
    "        manf = np.append(manf,ls[0])\n",
    "        model = np.append(model,ls[1].replace('-',''))\n",
    "     \n",
    "    return manf,model"
   ]
  },
  {
   "cell_type": "code",
   "execution_count": 53,
   "id": "a75aecc1",
   "metadata": {},
   "outputs": [
    {
     "data": {
      "text/plain": [
       "(array(['현대', '현대', '현대', '현대', '현대', '현대', '현대', '현대', '현대', '현대', '현대',\n",
       "        '현대', '현대', '현대', '현대', '현대', '현대', '현대', '현대', '현대', '현대'],\n",
       "       dtype='<U32'),\n",
       " array(['그랜저 HG', '제네시스 DH', '싼타페 DM', '쏘나타 (DN8)', '그랜드 스타렉스', '그랜드 스타렉스',\n",
       "        '그랜저 IG', '에쿠스(신형)', '싼타페 TM', '싼타페 더 프라임', '싼타페 DM', '그랜저 HG',\n",
       "        '싼타페 TM', '아반떼 AD', '제네시스 DH', '싼타페 TM', '그랜저 IG', '그랜저 HG',\n",
       "        '그랜저 IG', '그랜저 IG', '제네시스 DH'], dtype='<U32'))"
      ]
     },
     "execution_count": 53,
     "metadata": {},
     "output_type": "execute_result"
    }
   ],
   "source": [
    "getInfo(bs)"
   ]
  },
  {
   "cell_type": "code",
   "execution_count": 54,
   "id": "fa14fdf8",
   "metadata": {},
   "outputs": [
    {
     "data": {
      "text/plain": [
       "21"
      ]
     },
     "execution_count": 54,
     "metadata": {},
     "output_type": "execute_result"
    }
   ],
   "source": [
    "len(getInfo(bs)[0])"
   ]
  },
  {
   "cell_type": "code",
   "execution_count": 55,
   "id": "750e8d31",
   "metadata": {},
   "outputs": [],
   "source": [
    "def getYear(bs):\n",
    "    year = np.array([],dtype=np.int8)\n",
    "\n",
    "    Info = bs.select('div.part.list > table.car_list > tbody#sr_normal > tr > td.inf > span.detail > span.yer')\n",
    "    for i in range(0,len(Info)):\n",
    "        temp = Info[i].text\n",
    "        temp = '20' + temp\n",
    "        temp = temp[0:4]\n",
    "        temp = int(temp) + 1\n",
    "        year = np.append(year,int(temp))\n",
    "\n",
    "     \n",
    "    return year#,fuel,displacement,drtype,trim"
   ]
  },
  {
   "cell_type": "code",
   "execution_count": 56,
   "id": "3ae6826c",
   "metadata": {},
   "outputs": [
    {
     "data": {
      "text/plain": [
       "array([2017, 2015, 2015, 2020, 2018, 2015, 2018, 2015, 2019, 2018, 2014,\n",
       "       2017, 2020, 2018, 2015, 2019, 2018, 2014, 2018, 2019, 2016])"
      ]
     },
     "execution_count": 56,
     "metadata": {},
     "output_type": "execute_result"
    }
   ],
   "source": [
    "getYear(bs)"
   ]
  },
  {
   "cell_type": "code",
   "execution_count": 57,
   "id": "3743e122",
   "metadata": {},
   "outputs": [
    {
     "data": {
      "text/plain": [
       "21"
      ]
     },
     "execution_count": 57,
     "metadata": {},
     "output_type": "execute_result"
    }
   ],
   "source": [
    "len(getYear(bs))"
   ]
  },
  {
   "cell_type": "code",
   "execution_count": 58,
   "id": "51bd70be",
   "metadata": {},
   "outputs": [],
   "source": [
    "def getLoc(bs):\n",
    "    loc = np.array([])\n",
    "\n",
    "    Info = bs.select('div.part.list > table.car_list > tbody#sr_normal > tr > td.inf > span.detail > span.loc')\n",
    "    for i in range(0,len(Info)):\n",
    "        loc = np.append(loc,Info[i].text)\n",
    "\n",
    "     \n",
    "    return loc#,fuel,displacement,drtype,trim"
   ]
  },
  {
   "cell_type": "code",
   "execution_count": 59,
   "id": "d98b2cf8",
   "metadata": {},
   "outputs": [
    {
     "data": {
      "text/plain": [
       "'경기'"
      ]
     },
     "execution_count": 59,
     "metadata": {},
     "output_type": "execute_result"
    }
   ],
   "source": [
    "bs.select('div.part.list > table.car_list > tbody#sr_normal > tr > td.inf > span.detail > span.loc')[0].text"
   ]
  },
  {
   "cell_type": "code",
   "execution_count": 60,
   "id": "25eb3ec6",
   "metadata": {},
   "outputs": [
    {
     "data": {
      "text/plain": [
       "array(['경기', '경기', '부산', '경기', '경기', '경기', '경기', '경기', '부산', '경기', '경기',\n",
       "       '경기', '경기', '대전', '인천', '부산', '대구', '광주', '인천', '인천', '전북'],\n",
       "      dtype='<U32')"
      ]
     },
     "execution_count": 60,
     "metadata": {},
     "output_type": "execute_result"
    }
   ],
   "source": [
    "getLoc(bs)"
   ]
  },
  {
   "cell_type": "code",
   "execution_count": null,
   "id": "01b1bc86",
   "metadata": {},
   "outputs": [],
   "source": []
  },
  {
   "cell_type": "code",
   "execution_count": 61,
   "id": "a32d5274",
   "metadata": {},
   "outputs": [],
   "source": [
    "def getKm(bs):\n",
    "    km = np.array([],dtype=np.int64)\n",
    "\n",
    "    Info = bs.select('div.part.list > table.car_list > tbody#sr_normal > tr > td.inf > span.detail > span.km')\n",
    "    for i in range(0,len(Info)):\n",
    "        km = np.append(km,int(Info[i].text.replace(',','').replace('km','')))\n",
    "\n",
    "     \n",
    "    return km#,fuel,displacement,drtype,trim"
   ]
  },
  {
   "cell_type": "code",
   "execution_count": 62,
   "id": "b46f78f4",
   "metadata": {},
   "outputs": [
    {
     "data": {
      "text/plain": [
       "array([ 78865,  94427, 119284,  40268,  26078, 126722,  83657, 135495,\n",
       "        32472,  51286,  82633,  76523,  36658,  34390,  30987,  32472,\n",
       "        79114, 130611, 139883,  73156,  96810])"
      ]
     },
     "execution_count": 62,
     "metadata": {},
     "output_type": "execute_result"
    }
   ],
   "source": [
    "getKm(bs)"
   ]
  },
  {
   "cell_type": "code",
   "execution_count": 63,
   "id": "c927cc7d",
   "metadata": {},
   "outputs": [
    {
     "data": {
      "text/plain": [
       "21"
      ]
     },
     "execution_count": 63,
     "metadata": {},
     "output_type": "execute_result"
    }
   ],
   "source": [
    "len(getKm(bs))"
   ]
  },
  {
   "cell_type": "code",
   "execution_count": 64,
   "id": "cb7fe08d",
   "metadata": {},
   "outputs": [],
   "source": [
    "def getFuel(bs):\n",
    "    fuel = np.array([])\n",
    "\n",
    "    Info = bs.select('div.part.list > table.car_list > tbody#sr_normal > tr > td.inf > span.detail > span.fue')\n",
    "    for i in range(0,len(Info)):\n",
    "        fuel = np.append(fuel,Info[i].text)\n",
    "\n",
    "     \n",
    "    return fuel#,fuel,displacement,drtype,trim"
   ]
  },
  {
   "cell_type": "code",
   "execution_count": 65,
   "id": "58d0a5d1",
   "metadata": {},
   "outputs": [
    {
     "data": {
      "text/plain": [
       "array(['가솔린', '가솔린', '디젤', '가솔린', '디젤', '디젤', '가솔린', '가솔린', '디젤', '디젤',\n",
       "       '디젤', '가솔린', '디젤', 'LPG(일반인 구입)', '가솔린', '디젤', '가솔린', '가솔린', '가솔린',\n",
       "       '가솔린', '가솔린'], dtype='<U32')"
      ]
     },
     "execution_count": 65,
     "metadata": {},
     "output_type": "execute_result"
    }
   ],
   "source": [
    "getFuel(bs)"
   ]
  },
  {
   "cell_type": "code",
   "execution_count": 66,
   "id": "677e9429",
   "metadata": {},
   "outputs": [
    {
     "data": {
      "text/plain": [
       "21"
      ]
     },
     "execution_count": 66,
     "metadata": {},
     "output_type": "execute_result"
    }
   ],
   "source": [
    "len(getFuel(bs))"
   ]
  },
  {
   "cell_type": "code",
   "execution_count": 67,
   "id": "aabcccaa",
   "metadata": {},
   "outputs": [],
   "source": [
    "def getPrice(bs):\n",
    "    price = np.array([],dtype=np.int64)\n",
    "\n",
    "    Info = bs.select('div.part.list > table.car_list > tbody#sr_normal > tr > td.prc_hs')\n",
    "    for i in range(0,len(Info)):\n",
    "        \n",
    "        if country[con] == 1:\n",
    "            price = np.append(price,Info[i].text.split(' ')[1].replace('만원','').replace(',',''))\n",
    "        elif country[con] == 2:\n",
    "            price = np.append(price,Info[i].text.split(' ')[0].replace('만원','').replace(',','').replace('리스승계','').replace('렌트승계',''))\n",
    "     \n",
    "    return price"
   ]
  },
  {
   "cell_type": "code",
   "execution_count": 68,
   "id": "f4ed7a2c",
   "metadata": {},
   "outputs": [
    {
     "data": {
      "text/plain": [
       "array(['1490', '2050', '1700', '2090', '1890', '1890', '1859', '2590',\n",
       "       '3299', '2390', '1590', '1650', '3250', '1290', '2480', '3299',\n",
       "       '2470', '1150', '1640', '1990', '2180'], dtype='<U21')"
      ]
     },
     "execution_count": 68,
     "metadata": {},
     "output_type": "execute_result"
    }
   ],
   "source": [
    "getPrice(bs)"
   ]
  },
  {
   "cell_type": "code",
   "execution_count": 69,
   "id": "997df235",
   "metadata": {},
   "outputs": [
    {
     "data": {
      "text/plain": [
       "21"
      ]
     },
     "execution_count": 69,
     "metadata": {},
     "output_type": "execute_result"
    }
   ],
   "source": [
    "len(getPrice(bs))"
   ]
  },
  {
   "cell_type": "code",
   "execution_count": 70,
   "id": "75e3bc6e",
   "metadata": {},
   "outputs": [],
   "source": [
    "def getNewInfo():\n",
    "    re_manf = np.array([])\n",
    "    re_name_year = np.array([])\n",
    "    re_loc = np.array([])\n",
    "    re_name_model = np.array([])\n",
    "    re_km = np.array([])\n",
    "    re_price = np.array([])\n",
    "    re_fuel = np.array([])\n",
    "\n",
    "    for q in np.arange(0,1):\n",
    "        for i in np.arange(2,12):\n",
    "            time.sleep(3)\n",
    "            if q==0:\n",
    "                w=i-1\n",
    "                pg = '//*[@id=\"pagination\"]/span['+str(w)+']'\n",
    "                driver.find_element(By.XPATH,pg).click()\n",
    "                time.sleep(5)\n",
    "                #print('q=0')\n",
    "            else :\n",
    "                pg = '//*[@id=\"pagination\"]/span['+str(i)+']'\n",
    "                driver.find_element(By.XPATH,pg).click()\n",
    "                time.sleep(5)\n",
    "                #print('q!=0')\n",
    "            \n",
    "            \n",
    "            bs = getUrl()\n",
    "            time.sleep(3)\n",
    "            \n",
    "            \n",
    "            re_manf = np.append(re_manf,getInfo(bs)[0])\n",
    "            re_name_year = np.append(re_name_year,getYear(bs))\n",
    "            re_loc = np.append(re_loc,getLoc(bs))\n",
    "            re_name_model = np.append(re_name_model,getInfo(bs)[1])\n",
    "            re_km = np.append(re_km,getKm(bs))\n",
    "            re_price = np.append(re_price,getPrice(bs))\n",
    "            re_fuel = np.append(re_fuel,getFuel(bs))\n",
    "            \n",
    "\n",
    "            \n",
    "            if (w==10):\n",
    "                loca6=driver.find_element(By.XPATH,'//*[@id=\"pagination\"]/span[11]').click()\n",
    "                time.sleep(5)\n",
    "                #print('이제11페이지로 넘어감')\n",
    "                w=0\n",
    "                break;\n",
    "            if (i==11):\n",
    "                loca7=driver.find_element(By.XPATH,'//*[@id=\"pagination\"]/span[12]').click()\n",
    "                time.sleep(5)\n",
    "                #print('이제 21페이지로 넘어감')\n",
    "            \n",
    "            \n",
    "        \n",
    "\n",
    "\n",
    "    new_data = pd.DataFrame({'Release Year' : re_name_year,\n",
    "                        'Model Name' : re_name_model,\n",
    "                        'Price' : re_price,\n",
    "                        'Km' : re_km,\n",
    "                         'Fuel' : re_fuel,\n",
    "                        'Manf' : re_manf,\n",
    "                        'Loc' : re_loc})\n",
    "\n",
    "    return new_data"
   ]
  },
  {
   "cell_type": "code",
   "execution_count": 71,
   "id": "6b230354",
   "metadata": {
    "scrolled": true
   },
   "outputs": [],
   "source": [
    "test = getNewInfo()"
   ]
  },
  {
   "cell_type": "code",
   "execution_count": 72,
   "id": "5fe1c6a8",
   "metadata": {},
   "outputs": [],
   "source": [
    "test['Release Year'] = test['Release Year'].astype(int)"
   ]
  },
  {
   "cell_type": "code",
   "execution_count": 73,
   "id": "533a1318",
   "metadata": {},
   "outputs": [],
   "source": [
    "test = test.set_index('Release Year')"
   ]
  },
  {
   "cell_type": "code",
   "execution_count": 74,
   "id": "f03ce9fa",
   "metadata": {},
   "outputs": [
    {
     "data": {
      "text/html": [
       "<div>\n",
       "<style scoped>\n",
       "    .dataframe tbody tr th:only-of-type {\n",
       "        vertical-align: middle;\n",
       "    }\n",
       "\n",
       "    .dataframe tbody tr th {\n",
       "        vertical-align: top;\n",
       "    }\n",
       "\n",
       "    .dataframe thead th {\n",
       "        text-align: right;\n",
       "    }\n",
       "</style>\n",
       "<table border=\"1\" class=\"dataframe\">\n",
       "  <thead>\n",
       "    <tr style=\"text-align: right;\">\n",
       "      <th></th>\n",
       "      <th>Model Name</th>\n",
       "      <th>Price</th>\n",
       "      <th>Km</th>\n",
       "      <th>Fuel</th>\n",
       "      <th>Manf</th>\n",
       "      <th>Loc</th>\n",
       "    </tr>\n",
       "    <tr>\n",
       "      <th>Release Year</th>\n",
       "      <th></th>\n",
       "      <th></th>\n",
       "      <th></th>\n",
       "      <th></th>\n",
       "      <th></th>\n",
       "      <th></th>\n",
       "    </tr>\n",
       "  </thead>\n",
       "  <tbody>\n",
       "    <tr>\n",
       "      <th>2017</th>\n",
       "      <td>그랜저 HG</td>\n",
       "      <td>1490</td>\n",
       "      <td>78865.0</td>\n",
       "      <td>가솔린</td>\n",
       "      <td>현대</td>\n",
       "      <td>경기</td>\n",
       "    </tr>\n",
       "    <tr>\n",
       "      <th>2015</th>\n",
       "      <td>제네시스 DH</td>\n",
       "      <td>2050</td>\n",
       "      <td>94427.0</td>\n",
       "      <td>가솔린</td>\n",
       "      <td>현대</td>\n",
       "      <td>경기</td>\n",
       "    </tr>\n",
       "    <tr>\n",
       "      <th>2015</th>\n",
       "      <td>싼타페 DM</td>\n",
       "      <td>1700</td>\n",
       "      <td>119284.0</td>\n",
       "      <td>디젤</td>\n",
       "      <td>현대</td>\n",
       "      <td>부산</td>\n",
       "    </tr>\n",
       "    <tr>\n",
       "      <th>2020</th>\n",
       "      <td>쏘나타 (DN8)</td>\n",
       "      <td>2090</td>\n",
       "      <td>40268.0</td>\n",
       "      <td>가솔린</td>\n",
       "      <td>현대</td>\n",
       "      <td>경기</td>\n",
       "    </tr>\n",
       "    <tr>\n",
       "      <th>2018</th>\n",
       "      <td>그랜드 스타렉스</td>\n",
       "      <td>1890</td>\n",
       "      <td>26078.0</td>\n",
       "      <td>디젤</td>\n",
       "      <td>현대</td>\n",
       "      <td>경기</td>\n",
       "    </tr>\n",
       "    <tr>\n",
       "      <th>...</th>\n",
       "      <td>...</td>\n",
       "      <td>...</td>\n",
       "      <td>...</td>\n",
       "      <td>...</td>\n",
       "      <td>...</td>\n",
       "      <td>...</td>\n",
       "    </tr>\n",
       "    <tr>\n",
       "      <th>2021</th>\n",
       "      <td>더 뉴 그랜저 IG 하이브리드</td>\n",
       "      <td>3850</td>\n",
       "      <td>24768.0</td>\n",
       "      <td>가솔린+전기</td>\n",
       "      <td>현대</td>\n",
       "      <td>인천</td>\n",
       "    </tr>\n",
       "    <tr>\n",
       "      <th>2015</th>\n",
       "      <td>제네시스 DH</td>\n",
       "      <td>1799</td>\n",
       "      <td>87332.0</td>\n",
       "      <td>가솔린</td>\n",
       "      <td>현대</td>\n",
       "      <td>대구</td>\n",
       "    </tr>\n",
       "    <tr>\n",
       "      <th>2011</th>\n",
       "      <td>아반떼 MD</td>\n",
       "      <td>850</td>\n",
       "      <td>64693.0</td>\n",
       "      <td>가솔린</td>\n",
       "      <td>현대</td>\n",
       "      <td>대구</td>\n",
       "    </tr>\n",
       "    <tr>\n",
       "      <th>2020</th>\n",
       "      <td>그랜저 IG</td>\n",
       "      <td>2350</td>\n",
       "      <td>49377.0</td>\n",
       "      <td>가솔린</td>\n",
       "      <td>현대</td>\n",
       "      <td>대구</td>\n",
       "    </tr>\n",
       "    <tr>\n",
       "      <th>2018</th>\n",
       "      <td>그랜저 IG</td>\n",
       "      <td>2380</td>\n",
       "      <td>32738.0</td>\n",
       "      <td>가솔린</td>\n",
       "      <td>현대</td>\n",
       "      <td>광주</td>\n",
       "    </tr>\n",
       "  </tbody>\n",
       "</table>\n",
       "<p>210 rows × 6 columns</p>\n",
       "</div>"
      ],
      "text/plain": [
       "                    Model Name Price        Km    Fuel Manf Loc\n",
       "Release Year                                                   \n",
       "2017                    그랜저 HG  1490   78865.0     가솔린   현대  경기\n",
       "2015                   제네시스 DH  2050   94427.0     가솔린   현대  경기\n",
       "2015                    싼타페 DM  1700  119284.0      디젤   현대  부산\n",
       "2020                 쏘나타 (DN8)  2090   40268.0     가솔린   현대  경기\n",
       "2018                  그랜드 스타렉스  1890   26078.0      디젤   현대  경기\n",
       "...                        ...   ...       ...     ...  ...  ..\n",
       "2021          더 뉴 그랜저 IG 하이브리드  3850   24768.0  가솔린+전기   현대  인천\n",
       "2015                   제네시스 DH  1799   87332.0     가솔린   현대  대구\n",
       "2011                    아반떼 MD   850   64693.0     가솔린   현대  대구\n",
       "2020                    그랜저 IG  2350   49377.0     가솔린   현대  대구\n",
       "2018                    그랜저 IG  2380   32738.0     가솔린   현대  광주\n",
       "\n",
       "[210 rows x 6 columns]"
      ]
     },
     "execution_count": 74,
     "metadata": {},
     "output_type": "execute_result"
    }
   ],
   "source": [
    "test"
   ]
  },
  {
   "cell_type": "code",
   "execution_count": 97,
   "id": "78258f83",
   "metadata": {},
   "outputs": [
    {
     "data": {
      "text/html": [
       "<div style=\"width:100%;\"><div style=\"position:relative;width:100%;height:0;padding-bottom:60%;\"><span style=\"color:#565656\">Make this Notebook Trusted to load map: File -> Trust Notebook</span><iframe src=\"about:blank\" style=\"position:absolute;width:100%;height:100%;left:0;top:0;border:none !important;\" data-html=%3C%21DOCTYPE%20html%3E%0A%3Chead%3E%20%20%20%20%0A%20%20%20%20%3Cmeta%20http-equiv%3D%22content-type%22%20content%3D%22text/html%3B%20charset%3DUTF-8%22%20/%3E%0A%20%20%20%20%0A%20%20%20%20%20%20%20%20%3Cscript%3E%0A%20%20%20%20%20%20%20%20%20%20%20%20L_NO_TOUCH%20%3D%20false%3B%0A%20%20%20%20%20%20%20%20%20%20%20%20L_DISABLE_3D%20%3D%20false%3B%0A%20%20%20%20%20%20%20%20%3C/script%3E%0A%20%20%20%20%0A%20%20%20%20%3Cstyle%3Ehtml%2C%20body%20%7Bwidth%3A%20100%25%3Bheight%3A%20100%25%3Bmargin%3A%200%3Bpadding%3A%200%3B%7D%3C/style%3E%0A%20%20%20%20%3Cstyle%3E%23map%20%7Bposition%3Aabsolute%3Btop%3A0%3Bbottom%3A0%3Bright%3A0%3Bleft%3A0%3B%7D%3C/style%3E%0A%20%20%20%20%3Cscript%20src%3D%22https%3A//cdn.jsdelivr.net/npm/leaflet%401.6.0/dist/leaflet.js%22%3E%3C/script%3E%0A%20%20%20%20%3Cscript%20src%3D%22https%3A//code.jquery.com/jquery-1.12.4.min.js%22%3E%3C/script%3E%0A%20%20%20%20%3Cscript%20src%3D%22https%3A//maxcdn.bootstrapcdn.com/bootstrap/3.2.0/js/bootstrap.min.js%22%3E%3C/script%3E%0A%20%20%20%20%3Cscript%20src%3D%22https%3A//cdnjs.cloudflare.com/ajax/libs/Leaflet.awesome-markers/2.0.2/leaflet.awesome-markers.js%22%3E%3C/script%3E%0A%20%20%20%20%3Clink%20rel%3D%22stylesheet%22%20href%3D%22https%3A//cdn.jsdelivr.net/npm/leaflet%401.6.0/dist/leaflet.css%22/%3E%0A%20%20%20%20%3Clink%20rel%3D%22stylesheet%22%20href%3D%22https%3A//maxcdn.bootstrapcdn.com/bootstrap/3.2.0/css/bootstrap.min.css%22/%3E%0A%20%20%20%20%3Clink%20rel%3D%22stylesheet%22%20href%3D%22https%3A//maxcdn.bootstrapcdn.com/bootstrap/3.2.0/css/bootstrap-theme.min.css%22/%3E%0A%20%20%20%20%3Clink%20rel%3D%22stylesheet%22%20href%3D%22https%3A//maxcdn.bootstrapcdn.com/font-awesome/4.6.3/css/font-awesome.min.css%22/%3E%0A%20%20%20%20%3Clink%20rel%3D%22stylesheet%22%20href%3D%22https%3A//cdnjs.cloudflare.com/ajax/libs/Leaflet.awesome-markers/2.0.2/leaflet.awesome-markers.css%22/%3E%0A%20%20%20%20%3Clink%20rel%3D%22stylesheet%22%20href%3D%22https%3A//cdn.jsdelivr.net/gh/python-visualization/folium/folium/templates/leaflet.awesome.rotate.min.css%22/%3E%0A%20%20%20%20%0A%20%20%20%20%20%20%20%20%20%20%20%20%3Cmeta%20name%3D%22viewport%22%20content%3D%22width%3Ddevice-width%2C%0A%20%20%20%20%20%20%20%20%20%20%20%20%20%20%20%20initial-scale%3D1.0%2C%20maximum-scale%3D1.0%2C%20user-scalable%3Dno%22%20/%3E%0A%20%20%20%20%20%20%20%20%20%20%20%20%3Cstyle%3E%0A%20%20%20%20%20%20%20%20%20%20%20%20%20%20%20%20%23map_a621eab854774bd1a72408d0cc8d065f%20%7B%0A%20%20%20%20%20%20%20%20%20%20%20%20%20%20%20%20%20%20%20%20position%3A%20relative%3B%0A%20%20%20%20%20%20%20%20%20%20%20%20%20%20%20%20%20%20%20%20width%3A%20100.0%25%3B%0A%20%20%20%20%20%20%20%20%20%20%20%20%20%20%20%20%20%20%20%20height%3A%20100.0%25%3B%0A%20%20%20%20%20%20%20%20%20%20%20%20%20%20%20%20%20%20%20%20left%3A%200.0%25%3B%0A%20%20%20%20%20%20%20%20%20%20%20%20%20%20%20%20%20%20%20%20top%3A%200.0%25%3B%0A%20%20%20%20%20%20%20%20%20%20%20%20%20%20%20%20%7D%0A%20%20%20%20%20%20%20%20%20%20%20%20%3C/style%3E%0A%20%20%20%20%20%20%20%20%0A%3C/head%3E%0A%3Cbody%3E%20%20%20%20%0A%20%20%20%20%0A%20%20%20%20%20%20%20%20%20%20%20%20%3Cdiv%20class%3D%22folium-map%22%20id%3D%22map_a621eab854774bd1a72408d0cc8d065f%22%20%3E%3C/div%3E%0A%20%20%20%20%20%20%20%20%0A%3C/body%3E%0A%3Cscript%3E%20%20%20%20%0A%20%20%20%20%0A%20%20%20%20%20%20%20%20%20%20%20%20var%20map_a621eab854774bd1a72408d0cc8d065f%20%3D%20L.map%28%0A%20%20%20%20%20%20%20%20%20%20%20%20%20%20%20%20%22map_a621eab854774bd1a72408d0cc8d065f%22%2C%0A%20%20%20%20%20%20%20%20%20%20%20%20%20%20%20%20%7B%0A%20%20%20%20%20%20%20%20%20%20%20%20%20%20%20%20%20%20%20%20center%3A%20%5B36.35287%2C%20127.39013%5D%2C%0A%20%20%20%20%20%20%20%20%20%20%20%20%20%20%20%20%20%20%20%20crs%3A%20L.CRS.EPSG3857%2C%0A%20%20%20%20%20%20%20%20%20%20%20%20%20%20%20%20%20%20%20%20zoom%3A%206%2C%0A%20%20%20%20%20%20%20%20%20%20%20%20%20%20%20%20%20%20%20%20zoomControl%3A%20true%2C%0A%20%20%20%20%20%20%20%20%20%20%20%20%20%20%20%20%20%20%20%20preferCanvas%3A%20false%2C%0A%20%20%20%20%20%20%20%20%20%20%20%20%20%20%20%20%7D%0A%20%20%20%20%20%20%20%20%20%20%20%20%29%3B%0A%0A%20%20%20%20%20%20%20%20%20%20%20%20%0A%0A%20%20%20%20%20%20%20%20%0A%20%20%20%20%0A%20%20%20%20%20%20%20%20%20%20%20%20var%20tile_layer_5b84d26e82414ab2a33004c432bd68a5%20%3D%20L.tileLayer%28%0A%20%20%20%20%20%20%20%20%20%20%20%20%20%20%20%20%22https%3A//%7Bs%7D.tile.openstreetmap.org/%7Bz%7D/%7Bx%7D/%7By%7D.png%22%2C%0A%20%20%20%20%20%20%20%20%20%20%20%20%20%20%20%20%7B%22attribution%22%3A%20%22Data%20by%20%5Cu0026copy%3B%20%5Cu003ca%20href%3D%5C%22http%3A//openstreetmap.org%5C%22%5Cu003eOpenStreetMap%5Cu003c/a%5Cu003e%2C%20under%20%5Cu003ca%20href%3D%5C%22http%3A//www.openstreetmap.org/copyright%5C%22%5Cu003eODbL%5Cu003c/a%5Cu003e.%22%2C%20%22detectRetina%22%3A%20false%2C%20%22maxNativeZoom%22%3A%2018%2C%20%22maxZoom%22%3A%2018%2C%20%22minZoom%22%3A%200%2C%20%22noWrap%22%3A%20false%2C%20%22opacity%22%3A%201%2C%20%22subdomains%22%3A%20%22abc%22%2C%20%22tms%22%3A%20false%7D%0A%20%20%20%20%20%20%20%20%20%20%20%20%29.addTo%28map_a621eab854774bd1a72408d0cc8d065f%29%3B%0A%20%20%20%20%20%20%20%20%0A%3C/script%3E onload=\"this.contentDocument.open();this.contentDocument.write(    decodeURIComponent(this.getAttribute('data-html')));this.contentDocument.close();\" allowfullscreen webkitallowfullscreen mozallowfullscreen></iframe></div></div>"
      ],
      "text/plain": [
       "<folium.folium.Map at 0x7f9372665910>"
      ]
     },
     "execution_count": 97,
     "metadata": {},
     "output_type": "execute_result"
    }
   ],
   "source": [
    "map_kor = folium.Map(location=[36.35287,127.39013],zoom_start=6)\n",
    "map_kor"
   ]
  },
  {
   "cell_type": "code",
   "execution_count": 105,
   "id": "93bb617d",
   "metadata": {},
   "outputs": [
    {
     "data": {
      "text/plain": [
       "<folium.map.Marker at 0x7f93802294c0>"
      ]
     },
     "execution_count": 105,
     "metadata": {},
     "output_type": "execute_result"
    }
   ],
   "source": [
    "\n",
    "folium.Marker([37.27562,127.00906],popup=['경기',12], icon=folium.Icon(color='red')).add_to(map_kor)"
   ]
  },
  {
   "cell_type": "code",
   "execution_count": 106,
   "id": "59bac82d",
   "metadata": {},
   "outputs": [
    {
     "data": {
      "text/html": [
       "<div style=\"width:100%;\"><div style=\"position:relative;width:100%;height:0;padding-bottom:60%;\"><span style=\"color:#565656\">Make this Notebook Trusted to load map: File -> Trust Notebook</span><iframe src=\"about:blank\" style=\"position:absolute;width:100%;height:100%;left:0;top:0;border:none !important;\" data-html=%3C%21DOCTYPE%20html%3E%0A%3Chead%3E%20%20%20%20%0A%20%20%20%20%3Cmeta%20http-equiv%3D%22content-type%22%20content%3D%22text/html%3B%20charset%3DUTF-8%22%20/%3E%0A%20%20%20%20%0A%20%20%20%20%20%20%20%20%3Cscript%3E%0A%20%20%20%20%20%20%20%20%20%20%20%20L_NO_TOUCH%20%3D%20false%3B%0A%20%20%20%20%20%20%20%20%20%20%20%20L_DISABLE_3D%20%3D%20false%3B%0A%20%20%20%20%20%20%20%20%3C/script%3E%0A%20%20%20%20%0A%20%20%20%20%3Cstyle%3Ehtml%2C%20body%20%7Bwidth%3A%20100%25%3Bheight%3A%20100%25%3Bmargin%3A%200%3Bpadding%3A%200%3B%7D%3C/style%3E%0A%20%20%20%20%3Cstyle%3E%23map%20%7Bposition%3Aabsolute%3Btop%3A0%3Bbottom%3A0%3Bright%3A0%3Bleft%3A0%3B%7D%3C/style%3E%0A%20%20%20%20%3Cscript%20src%3D%22https%3A//cdn.jsdelivr.net/npm/leaflet%401.6.0/dist/leaflet.js%22%3E%3C/script%3E%0A%20%20%20%20%3Cscript%20src%3D%22https%3A//code.jquery.com/jquery-1.12.4.min.js%22%3E%3C/script%3E%0A%20%20%20%20%3Cscript%20src%3D%22https%3A//maxcdn.bootstrapcdn.com/bootstrap/3.2.0/js/bootstrap.min.js%22%3E%3C/script%3E%0A%20%20%20%20%3Cscript%20src%3D%22https%3A//cdnjs.cloudflare.com/ajax/libs/Leaflet.awesome-markers/2.0.2/leaflet.awesome-markers.js%22%3E%3C/script%3E%0A%20%20%20%20%3Clink%20rel%3D%22stylesheet%22%20href%3D%22https%3A//cdn.jsdelivr.net/npm/leaflet%401.6.0/dist/leaflet.css%22/%3E%0A%20%20%20%20%3Clink%20rel%3D%22stylesheet%22%20href%3D%22https%3A//maxcdn.bootstrapcdn.com/bootstrap/3.2.0/css/bootstrap.min.css%22/%3E%0A%20%20%20%20%3Clink%20rel%3D%22stylesheet%22%20href%3D%22https%3A//maxcdn.bootstrapcdn.com/bootstrap/3.2.0/css/bootstrap-theme.min.css%22/%3E%0A%20%20%20%20%3Clink%20rel%3D%22stylesheet%22%20href%3D%22https%3A//maxcdn.bootstrapcdn.com/font-awesome/4.6.3/css/font-awesome.min.css%22/%3E%0A%20%20%20%20%3Clink%20rel%3D%22stylesheet%22%20href%3D%22https%3A//cdnjs.cloudflare.com/ajax/libs/Leaflet.awesome-markers/2.0.2/leaflet.awesome-markers.css%22/%3E%0A%20%20%20%20%3Clink%20rel%3D%22stylesheet%22%20href%3D%22https%3A//cdn.jsdelivr.net/gh/python-visualization/folium/folium/templates/leaflet.awesome.rotate.min.css%22/%3E%0A%20%20%20%20%0A%20%20%20%20%20%20%20%20%20%20%20%20%3Cmeta%20name%3D%22viewport%22%20content%3D%22width%3Ddevice-width%2C%0A%20%20%20%20%20%20%20%20%20%20%20%20%20%20%20%20initial-scale%3D1.0%2C%20maximum-scale%3D1.0%2C%20user-scalable%3Dno%22%20/%3E%0A%20%20%20%20%20%20%20%20%20%20%20%20%3Cstyle%3E%0A%20%20%20%20%20%20%20%20%20%20%20%20%20%20%20%20%23map_a621eab854774bd1a72408d0cc8d065f%20%7B%0A%20%20%20%20%20%20%20%20%20%20%20%20%20%20%20%20%20%20%20%20position%3A%20relative%3B%0A%20%20%20%20%20%20%20%20%20%20%20%20%20%20%20%20%20%20%20%20width%3A%20100.0%25%3B%0A%20%20%20%20%20%20%20%20%20%20%20%20%20%20%20%20%20%20%20%20height%3A%20100.0%25%3B%0A%20%20%20%20%20%20%20%20%20%20%20%20%20%20%20%20%20%20%20%20left%3A%200.0%25%3B%0A%20%20%20%20%20%20%20%20%20%20%20%20%20%20%20%20%20%20%20%20top%3A%200.0%25%3B%0A%20%20%20%20%20%20%20%20%20%20%20%20%20%20%20%20%7D%0A%20%20%20%20%20%20%20%20%20%20%20%20%3C/style%3E%0A%20%20%20%20%20%20%20%20%0A%3C/head%3E%0A%3Cbody%3E%20%20%20%20%0A%20%20%20%20%0A%20%20%20%20%20%20%20%20%20%20%20%20%3Cdiv%20class%3D%22folium-map%22%20id%3D%22map_a621eab854774bd1a72408d0cc8d065f%22%20%3E%3C/div%3E%0A%20%20%20%20%20%20%20%20%0A%3C/body%3E%0A%3Cscript%3E%20%20%20%20%0A%20%20%20%20%0A%20%20%20%20%20%20%20%20%20%20%20%20var%20map_a621eab854774bd1a72408d0cc8d065f%20%3D%20L.map%28%0A%20%20%20%20%20%20%20%20%20%20%20%20%20%20%20%20%22map_a621eab854774bd1a72408d0cc8d065f%22%2C%0A%20%20%20%20%20%20%20%20%20%20%20%20%20%20%20%20%7B%0A%20%20%20%20%20%20%20%20%20%20%20%20%20%20%20%20%20%20%20%20center%3A%20%5B36.35287%2C%20127.39013%5D%2C%0A%20%20%20%20%20%20%20%20%20%20%20%20%20%20%20%20%20%20%20%20crs%3A%20L.CRS.EPSG3857%2C%0A%20%20%20%20%20%20%20%20%20%20%20%20%20%20%20%20%20%20%20%20zoom%3A%206%2C%0A%20%20%20%20%20%20%20%20%20%20%20%20%20%20%20%20%20%20%20%20zoomControl%3A%20true%2C%0A%20%20%20%20%20%20%20%20%20%20%20%20%20%20%20%20%20%20%20%20preferCanvas%3A%20false%2C%0A%20%20%20%20%20%20%20%20%20%20%20%20%20%20%20%20%7D%0A%20%20%20%20%20%20%20%20%20%20%20%20%29%3B%0A%0A%20%20%20%20%20%20%20%20%20%20%20%20%0A%0A%20%20%20%20%20%20%20%20%0A%20%20%20%20%0A%20%20%20%20%20%20%20%20%20%20%20%20var%20tile_layer_5b84d26e82414ab2a33004c432bd68a5%20%3D%20L.tileLayer%28%0A%20%20%20%20%20%20%20%20%20%20%20%20%20%20%20%20%22https%3A//%7Bs%7D.tile.openstreetmap.org/%7Bz%7D/%7Bx%7D/%7By%7D.png%22%2C%0A%20%20%20%20%20%20%20%20%20%20%20%20%20%20%20%20%7B%22attribution%22%3A%20%22Data%20by%20%5Cu0026copy%3B%20%5Cu003ca%20href%3D%5C%22http%3A//openstreetmap.org%5C%22%5Cu003eOpenStreetMap%5Cu003c/a%5Cu003e%2C%20under%20%5Cu003ca%20href%3D%5C%22http%3A//www.openstreetmap.org/copyright%5C%22%5Cu003eODbL%5Cu003c/a%5Cu003e.%22%2C%20%22detectRetina%22%3A%20false%2C%20%22maxNativeZoom%22%3A%2018%2C%20%22maxZoom%22%3A%2018%2C%20%22minZoom%22%3A%200%2C%20%22noWrap%22%3A%20false%2C%20%22opacity%22%3A%201%2C%20%22subdomains%22%3A%20%22abc%22%2C%20%22tms%22%3A%20false%7D%0A%20%20%20%20%20%20%20%20%20%20%20%20%29.addTo%28map_a621eab854774bd1a72408d0cc8d065f%29%3B%0A%20%20%20%20%20%20%20%20%0A%20%20%20%20%0A%20%20%20%20%20%20%20%20%20%20%20%20var%20marker_f3ebeb76b4cf4fd998dcb7bbb1fa066d%20%3D%20L.marker%28%0A%20%20%20%20%20%20%20%20%20%20%20%20%20%20%20%20%5B37.27562%2C%20127.00906%5D%2C%0A%20%20%20%20%20%20%20%20%20%20%20%20%20%20%20%20%7B%7D%0A%20%20%20%20%20%20%20%20%20%20%20%20%29.addTo%28map_a621eab854774bd1a72408d0cc8d065f%29%3B%0A%20%20%20%20%20%20%20%20%0A%20%20%20%20%0A%20%20%20%20%20%20%20%20%20%20%20%20var%20icon_ecdf900552124217a80e1ce57d5aa49b%20%3D%20L.AwesomeMarkers.icon%28%0A%20%20%20%20%20%20%20%20%20%20%20%20%20%20%20%20%7B%22extraClasses%22%3A%20%22fa-rotate-0%22%2C%20%22icon%22%3A%20%22info-sign%22%2C%20%22iconColor%22%3A%20%22white%22%2C%20%22markerColor%22%3A%20%22red%22%2C%20%22prefix%22%3A%20%22glyphicon%22%7D%0A%20%20%20%20%20%20%20%20%20%20%20%20%29%3B%0A%20%20%20%20%20%20%20%20%20%20%20%20marker_f3ebeb76b4cf4fd998dcb7bbb1fa066d.setIcon%28icon_ecdf900552124217a80e1ce57d5aa49b%29%3B%0A%20%20%20%20%20%20%20%20%0A%20%20%20%20%0A%20%20%20%20%20%20%20%20%20%20%20%20var%20marker_fd0140dcf54641ee86913d0fc22c9b9d%20%3D%20L.marker%28%0A%20%20%20%20%20%20%20%20%20%20%20%20%20%20%20%20%5B37.27562%2C%20127.00906%5D%2C%0A%20%20%20%20%20%20%20%20%20%20%20%20%20%20%20%20%7B%7D%0A%20%20%20%20%20%20%20%20%20%20%20%20%29.addTo%28map_a621eab854774bd1a72408d0cc8d065f%29%3B%0A%20%20%20%20%20%20%20%20%0A%20%20%20%20%0A%20%20%20%20%20%20%20%20%20%20%20%20var%20icon_e75270ec462c4d828c553bd027b241cd%20%3D%20L.AwesomeMarkers.icon%28%0A%20%20%20%20%20%20%20%20%20%20%20%20%20%20%20%20%7B%22extraClasses%22%3A%20%22fa-rotate-0%22%2C%20%22icon%22%3A%20%22info-sign%22%2C%20%22iconColor%22%3A%20%22white%22%2C%20%22markerColor%22%3A%20%22red%22%2C%20%22prefix%22%3A%20%22glyphicon%22%7D%0A%20%20%20%20%20%20%20%20%20%20%20%20%29%3B%0A%20%20%20%20%20%20%20%20%20%20%20%20marker_fd0140dcf54641ee86913d0fc22c9b9d.setIcon%28icon_e75270ec462c4d828c553bd027b241cd%29%3B%0A%20%20%20%20%20%20%20%20%0A%20%20%20%20%0A%20%20%20%20%20%20%20%20var%20popup_d6bd9d6e13ec4366b6d9123bd0e1f777%20%3D%20L.popup%28%7B%22maxWidth%22%3A%20%22100%25%22%7D%29%3B%0A%0A%20%20%20%20%20%20%20%20%0A%20%20%20%20%20%20%20%20%20%20%20%20var%20html_3da831c9934044f7bde23566c4b91399%20%3D%20%24%28%60%3Cdiv%20id%3D%22html_3da831c9934044f7bde23566c4b91399%22%20style%3D%22width%3A%20100.0%25%3B%20height%3A%20100.0%25%3B%22%3Ezz%3C/div%3E%60%29%5B0%5D%3B%0A%20%20%20%20%20%20%20%20%20%20%20%20popup_d6bd9d6e13ec4366b6d9123bd0e1f777.setContent%28html_3da831c9934044f7bde23566c4b91399%29%3B%0A%20%20%20%20%20%20%20%20%0A%0A%20%20%20%20%20%20%20%20marker_fd0140dcf54641ee86913d0fc22c9b9d.bindPopup%28popup_d6bd9d6e13ec4366b6d9123bd0e1f777%29%0A%20%20%20%20%20%20%20%20%3B%0A%0A%20%20%20%20%20%20%20%20%0A%20%20%20%20%0A%20%20%20%20%0A%20%20%20%20%20%20%20%20%20%20%20%20var%20marker_8d883a619bc74133a8e4f3ebbb9c30f9%20%3D%20L.marker%28%0A%20%20%20%20%20%20%20%20%20%20%20%20%20%20%20%20%5B37.27562%2C%20127.00906%5D%2C%0A%20%20%20%20%20%20%20%20%20%20%20%20%20%20%20%20%7B%7D%0A%20%20%20%20%20%20%20%20%20%20%20%20%29.addTo%28map_a621eab854774bd1a72408d0cc8d065f%29%3B%0A%20%20%20%20%20%20%20%20%0A%20%20%20%20%0A%20%20%20%20%20%20%20%20%20%20%20%20var%20icon_638b61d856d74a7e9118111684f993b1%20%3D%20L.AwesomeMarkers.icon%28%0A%20%20%20%20%20%20%20%20%20%20%20%20%20%20%20%20%7B%22extraClasses%22%3A%20%22fa-rotate-0%22%2C%20%22icon%22%3A%20%22info-sign%22%2C%20%22iconColor%22%3A%20%22white%22%2C%20%22markerColor%22%3A%20%22red%22%2C%20%22prefix%22%3A%20%22glyphicon%22%7D%0A%20%20%20%20%20%20%20%20%20%20%20%20%29%3B%0A%20%20%20%20%20%20%20%20%20%20%20%20marker_8d883a619bc74133a8e4f3ebbb9c30f9.setIcon%28icon_638b61d856d74a7e9118111684f993b1%29%3B%0A%20%20%20%20%20%20%20%20%0A%20%20%20%20%0A%20%20%20%20%20%20%20%20var%20popup_412911c2d6914030ae8898a627c8e8df%20%3D%20L.popup%28%7B%22maxWidth%22%3A%20%22100%25%22%7D%29%3B%0A%0A%20%20%20%20%20%20%20%20%0A%20%20%20%20%20%20%20%20%20%20%20%20var%20html_5324c6fc54944b1c95626b34b9df617e%20%3D%20%24%28%60%3Cdiv%20id%3D%22html_5324c6fc54944b1c95626b34b9df617e%22%20style%3D%22width%3A%20100.0%25%3B%20height%3A%20100.0%25%3B%22%3E%5B%5B%27%EA%B2%BD%EA%B8%B0%27%5D%2C%20%5B12%5D%5D%3C/div%3E%60%29%5B0%5D%3B%0A%20%20%20%20%20%20%20%20%20%20%20%20popup_412911c2d6914030ae8898a627c8e8df.setContent%28html_5324c6fc54944b1c95626b34b9df617e%29%3B%0A%20%20%20%20%20%20%20%20%0A%0A%20%20%20%20%20%20%20%20marker_8d883a619bc74133a8e4f3ebbb9c30f9.bindPopup%28popup_412911c2d6914030ae8898a627c8e8df%29%0A%20%20%20%20%20%20%20%20%3B%0A%0A%20%20%20%20%20%20%20%20%0A%20%20%20%20%0A%20%20%20%20%0A%20%20%20%20%20%20%20%20%20%20%20%20var%20marker_b9c8fe410ae14a1a88564ad7125442e1%20%3D%20L.marker%28%0A%20%20%20%20%20%20%20%20%20%20%20%20%20%20%20%20%5B37.27562%2C%20127.00906%5D%2C%0A%20%20%20%20%20%20%20%20%20%20%20%20%20%20%20%20%7B%7D%0A%20%20%20%20%20%20%20%20%20%20%20%20%29.addTo%28map_a621eab854774bd1a72408d0cc8d065f%29%3B%0A%20%20%20%20%20%20%20%20%0A%20%20%20%20%0A%20%20%20%20%20%20%20%20%20%20%20%20var%20icon_2dec92a85f8c42268b1d656734954e63%20%3D%20L.AwesomeMarkers.icon%28%0A%20%20%20%20%20%20%20%20%20%20%20%20%20%20%20%20%7B%22extraClasses%22%3A%20%22fa-rotate-0%22%2C%20%22icon%22%3A%20%22info-sign%22%2C%20%22iconColor%22%3A%20%22white%22%2C%20%22markerColor%22%3A%20%22red%22%2C%20%22prefix%22%3A%20%22glyphicon%22%7D%0A%20%20%20%20%20%20%20%20%20%20%20%20%29%3B%0A%20%20%20%20%20%20%20%20%20%20%20%20marker_b9c8fe410ae14a1a88564ad7125442e1.setIcon%28icon_2dec92a85f8c42268b1d656734954e63%29%3B%0A%20%20%20%20%20%20%20%20%0A%20%20%20%20%0A%20%20%20%20%20%20%20%20var%20popup_ccb8f302464d41c1b8acf3f4d08112b6%20%3D%20L.popup%28%7B%22maxWidth%22%3A%20%22100%25%22%7D%29%3B%0A%0A%20%20%20%20%20%20%20%20%0A%20%20%20%20%20%20%20%20%20%20%20%20var%20html_ae7c08720f25439db1e3dc0dfe75d1d8%20%3D%20%24%28%60%3Cdiv%20id%3D%22html_ae7c08720f25439db1e3dc0dfe75d1d8%22%20style%3D%22width%3A%20100.0%25%3B%20height%3A%20100.0%25%3B%22%3E%5B%27%EA%B2%BD%EA%B8%B0%27%2C%2012%5D%3C/div%3E%60%29%5B0%5D%3B%0A%20%20%20%20%20%20%20%20%20%20%20%20popup_ccb8f302464d41c1b8acf3f4d08112b6.setContent%28html_ae7c08720f25439db1e3dc0dfe75d1d8%29%3B%0A%20%20%20%20%20%20%20%20%0A%0A%20%20%20%20%20%20%20%20marker_b9c8fe410ae14a1a88564ad7125442e1.bindPopup%28popup_ccb8f302464d41c1b8acf3f4d08112b6%29%0A%20%20%20%20%20%20%20%20%3B%0A%0A%20%20%20%20%20%20%20%20%0A%20%20%20%20%0A%3C/script%3E onload=\"this.contentDocument.open();this.contentDocument.write(    decodeURIComponent(this.getAttribute('data-html')));this.contentDocument.close();\" allowfullscreen webkitallowfullscreen mozallowfullscreen></iframe></div></div>"
      ],
      "text/plain": [
       "<folium.folium.Map at 0x7f9372665910>"
      ]
     },
     "execution_count": 106,
     "metadata": {},
     "output_type": "execute_result"
    }
   ],
   "source": [
    "map_kor"
   ]
  },
  {
   "cell_type": "code",
   "execution_count": 75,
   "id": "3523d335",
   "metadata": {},
   "outputs": [],
   "source": [
    "#test.to_csv('%s_used_car_list.csv' % (mf))"
   ]
  },
  {
   "cell_type": "code",
   "execution_count": null,
   "id": "ce9e504d",
   "metadata": {},
   "outputs": [],
   "source": []
  }
 ],
 "metadata": {
  "kernelspec": {
   "display_name": "Python 3",
   "language": "python",
   "name": "python3"
  },
  "language_info": {
   "codemirror_mode": {
    "name": "ipython",
    "version": 3
   },
   "file_extension": ".py",
   "mimetype": "text/x-python",
   "name": "python",
   "nbconvert_exporter": "python",
   "pygments_lexer": "ipython3",
   "version": "3.8.8"
  }
 },
 "nbformat": 4,
 "nbformat_minor": 5
}
